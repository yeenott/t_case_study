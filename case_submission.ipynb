{
 "cells": [
  {
   "cell_type": "raw",
   "metadata": {},
   "source": [
    "!pip install pandas-profiling\n",
    "!pip install missingno"
   ]
  },
  {
   "cell_type": "code",
   "execution_count": 95,
   "metadata": {
    "id": "R2LU-JEqyc_7"
   },
   "outputs": [],
   "source": [
    "import pandas as pd\n",
    "import numpy as np\n",
    "import datetime\n",
    "import matplotlib.pyplot as plt\n",
    "import seaborn as sns\n",
    "import os\n",
    "import re\n",
    "import time\n",
    "import pandas_profiling\n",
    "import missingno as msno\n",
    "import collections\n",
    "\n",
    "import sklearn\n",
    "from sklearn.model_selection import train_test_split, StratifiedKFold, learning_curve, LeaveOneOut, cross_val_score, GridSearchCV\n",
    "from sklearn.ensemble import RandomForestClassifier\n",
    "from sklearn.metrics import classification_report, roc_auc_score, roc_curve, RocCurveDisplay, recall_score, precision_score, f1_score, confusion_matrix, ConfusionMatrixDisplay, precision_recall_curve, PrecisionRecallDisplay \n",
    "from sklearn.dummy import DummyClassifier\n",
    "from sklearn.linear_model import LogisticRegressionCV\n",
    "#from sklearn.feature_selection import RFECV\n",
    "from imblearn.over_sampling import BorderlineSMOTE,SMOTE\n",
    "from sklearn.preprocessing import StandardScaler\n",
    "from sklearn.svm import SVC\n",
    "from sklearn.decomposition import PCA, KernelPCA\n",
    "from sklearn.manifold import TSNE\n",
    "from sklearn.pipeline import Pipeline\n",
    "from scipy.stats import chi2_contingency\n",
    "#from xgboost import XGBClassifier\n",
    "\n",
    "from IPython.core.interactiveshell import InteractiveShell\n",
    "InteractiveShell.ast_node_interactivity = \"all\""
   ]
  },
  {
   "cell_type": "code",
   "execution_count": 2,
   "metadata": {},
   "outputs": [],
   "source": [
    "def checking_missing (cx, columns_to_check):\n",
    "    \n",
    "    row_with_missing_cx = [row_idx for row_idx, row in cx[columns_to_check].isnull().iterrows() if True in row.values]\n",
    "    print(\"\\nMissing Value Summary\\n{}\".format(\"-\"*35))\n",
    "    print(cx.isnull().sum(axis = 0))\n",
    "       \n",
    "    return \n",
    "\n",
    "\n",
    "def chi2_check(df, categorical_cols, target_col, p_value = 0.05):\n",
    "    chi2_check = []\n",
    "    for c in categorical_cols:\n",
    "        temp = pd.crosstab(df[c], pt_profile_cleaned[target_col])\n",
    "        print(temp)\n",
    "        chi_res = chi2_contingency(temp)\n",
    "        print('Chi2 Statistic for column \"{}\": {}, p-value: {}\\n{}'.format(c, chi_res[0], chi_res[1], \"-\"*60))\n",
    "    \n",
    "        if  chi_res[1] < p_value:\n",
    "            chi2_check.append('Reject Null Hypothesis')\n",
    "        else:\n",
    "            chi2_check.append('Fail to Reject Null Hypothesis')\n",
    "    \n",
    "        results_df = pd.DataFrame(data = [categorical_cols, chi2_check]).T \n",
    "        results_df.columns = ['Column', 'Hypothesis']\n",
    "    return results_df\n"
   ]
  },
  {
   "cell_type": "markdown",
   "metadata": {},
   "source": [
    "# 1. Loading Data, EDA and Data Preprocessing \n",
    "## 1.1. Patient profile table"
   ]
  },
  {
   "cell_type": "code",
   "execution_count": 3,
   "metadata": {
    "colab": {
     "base_uri": "https://localhost:8080/"
    },
    "id": "DKZ2srFzzmXK",
    "outputId": "3dd94ab5-043f-42e4-dc59-1fc97562def1"
   },
   "outputs": [
    {
     "data": {
      "text/plain": [
       "(7, 3)"
      ]
     },
     "execution_count": 3,
     "metadata": {},
     "output_type": "execute_result"
    },
    {
     "data": {
      "text/html": [
       "<div>\n",
       "<style scoped>\n",
       "    .dataframe tbody tr th:only-of-type {\n",
       "        vertical-align: middle;\n",
       "    }\n",
       "\n",
       "    .dataframe tbody tr th {\n",
       "        vertical-align: top;\n",
       "    }\n",
       "\n",
       "    .dataframe thead th {\n",
       "        text-align: right;\n",
       "    }\n",
       "</style>\n",
       "<table border=\"1\" class=\"dataframe\">\n",
       "  <thead>\n",
       "    <tr style=\"text-align: right;\">\n",
       "      <th></th>\n",
       "      <th>institution</th>\n",
       "      <th>cohort_id</th>\n",
       "      <th>patient_profiles</th>\n",
       "    </tr>\n",
       "  </thead>\n",
       "  <tbody>\n",
       "    <tr>\n",
       "      <th>0</th>\n",
       "      <td>Saint Penelope Medical Center</td>\n",
       "      <td>14562556998</td>\n",
       "      <td>[{'patient_id': '102bb8fae', 'demographics': {...</td>\n",
       "    </tr>\n",
       "    <tr>\n",
       "      <th>1</th>\n",
       "      <td>BioLab, Inc.</td>\n",
       "      <td>14562556998</td>\n",
       "      <td>[{'patient_id': '100688fb9', 'demographics': {...</td>\n",
       "    </tr>\n",
       "    <tr>\n",
       "      <th>2</th>\n",
       "      <td>University Hospital System</td>\n",
       "      <td>14562556998</td>\n",
       "      <td>[{'patient_id': '1002df1d3', 'demographics': {...</td>\n",
       "    </tr>\n",
       "    <tr>\n",
       "      <th>3</th>\n",
       "      <td>Goodfellow Research Institute</td>\n",
       "      <td>14562556998</td>\n",
       "      <td>[{'patient_id': '104fc5e3c', 'demographics': {...</td>\n",
       "    </tr>\n",
       "    <tr>\n",
       "      <th>4</th>\n",
       "      <td>Montague Hospital</td>\n",
       "      <td>14562556998</td>\n",
       "      <td>[{'patient_id': '1010441f', 'demographics': {'...</td>\n",
       "    </tr>\n",
       "  </tbody>\n",
       "</table>\n",
       "</div>"
      ],
      "text/plain": [
       "                     institution    cohort_id  \\\n",
       "0  Saint Penelope Medical Center  14562556998   \n",
       "1                   BioLab, Inc.  14562556998   \n",
       "2     University Hospital System  14562556998   \n",
       "3  Goodfellow Research Institute  14562556998   \n",
       "4              Montague Hospital  14562556998   \n",
       "\n",
       "                                    patient_profiles  \n",
       "0  [{'patient_id': '102bb8fae', 'demographics': {...  \n",
       "1  [{'patient_id': '100688fb9', 'demographics': {...  \n",
       "2  [{'patient_id': '1002df1d3', 'demographics': {...  \n",
       "3  [{'patient_id': '104fc5e3c', 'demographics': {...  \n",
       "4  [{'patient_id': '1010441f', 'demographics': {'...  "
      ]
     },
     "execution_count": 3,
     "metadata": {},
     "output_type": "execute_result"
    },
    {
     "data": {
      "text/plain": [
       "(2351, 15)"
      ]
     },
     "execution_count": 3,
     "metadata": {},
     "output_type": "execute_result"
    },
    {
     "data": {
      "text/html": [
       "<div>\n",
       "<style scoped>\n",
       "    .dataframe tbody tr th:only-of-type {\n",
       "        vertical-align: middle;\n",
       "    }\n",
       "\n",
       "    .dataframe tbody tr th {\n",
       "        vertical-align: top;\n",
       "    }\n",
       "\n",
       "    .dataframe thead th {\n",
       "        text-align: right;\n",
       "    }\n",
       "</style>\n",
       "<table border=\"1\" class=\"dataframe\">\n",
       "  <thead>\n",
       "    <tr style=\"text-align: right;\">\n",
       "      <th></th>\n",
       "      <th>patient_id</th>\n",
       "      <th>demographics.gender</th>\n",
       "      <th>demographics.age</th>\n",
       "      <th>status.disease_sub_type</th>\n",
       "      <th>status.comorbidity_index</th>\n",
       "      <th>status.cohort_qualifier</th>\n",
       "      <th>status.smoking_status</th>\n",
       "      <th>status.months_since_diagnosis</th>\n",
       "      <th>demographics.race</th>\n",
       "      <th>institution</th>\n",
       "      <th>cohort_id</th>\n",
       "      <th>status.days_since_diagnosis</th>\n",
       "      <th>status.alcohol_usage</th>\n",
       "      <th>status.exercise_frequency</th>\n",
       "      <th>status.bmi_level</th>\n",
       "    </tr>\n",
       "  </thead>\n",
       "  <tbody>\n",
       "    <tr>\n",
       "      <th>0</th>\n",
       "      <td>102bb8fae</td>\n",
       "      <td>Female</td>\n",
       "      <td>68.0</td>\n",
       "      <td>A</td>\n",
       "      <td>0.0</td>\n",
       "      <td>True</td>\n",
       "      <td>never</td>\n",
       "      <td>1.0</td>\n",
       "      <td>NaN</td>\n",
       "      <td>Saint Penelope Medical Center</td>\n",
       "      <td>14562556998</td>\n",
       "      <td>NaN</td>\n",
       "      <td>NaN</td>\n",
       "      <td>NaN</td>\n",
       "      <td>NaN</td>\n",
       "    </tr>\n",
       "    <tr>\n",
       "      <th>1</th>\n",
       "      <td>10e32947f</td>\n",
       "      <td>Female</td>\n",
       "      <td>66.0</td>\n",
       "      <td>A</td>\n",
       "      <td>NaN</td>\n",
       "      <td>True</td>\n",
       "      <td>former</td>\n",
       "      <td>0.0</td>\n",
       "      <td>White</td>\n",
       "      <td>Saint Penelope Medical Center</td>\n",
       "      <td>14562556998</td>\n",
       "      <td>NaN</td>\n",
       "      <td>NaN</td>\n",
       "      <td>NaN</td>\n",
       "      <td>NaN</td>\n",
       "    </tr>\n",
       "    <tr>\n",
       "      <th>2</th>\n",
       "      <td>11156e14a</td>\n",
       "      <td>Male</td>\n",
       "      <td>61.0</td>\n",
       "      <td>A</td>\n",
       "      <td>1.0</td>\n",
       "      <td>True</td>\n",
       "      <td>never</td>\n",
       "      <td>16.0</td>\n",
       "      <td>White</td>\n",
       "      <td>Saint Penelope Medical Center</td>\n",
       "      <td>14562556998</td>\n",
       "      <td>NaN</td>\n",
       "      <td>NaN</td>\n",
       "      <td>NaN</td>\n",
       "      <td>NaN</td>\n",
       "    </tr>\n",
       "    <tr>\n",
       "      <th>3</th>\n",
       "      <td>113d8066d</td>\n",
       "      <td>Male</td>\n",
       "      <td>62.0</td>\n",
       "      <td>B</td>\n",
       "      <td>NaN</td>\n",
       "      <td>True</td>\n",
       "      <td>current</td>\n",
       "      <td>0.0</td>\n",
       "      <td>NaN</td>\n",
       "      <td>Saint Penelope Medical Center</td>\n",
       "      <td>14562556998</td>\n",
       "      <td>NaN</td>\n",
       "      <td>NaN</td>\n",
       "      <td>NaN</td>\n",
       "      <td>NaN</td>\n",
       "    </tr>\n",
       "    <tr>\n",
       "      <th>4</th>\n",
       "      <td>113ec3f1</td>\n",
       "      <td>Male</td>\n",
       "      <td>59.0</td>\n",
       "      <td>A</td>\n",
       "      <td>NaN</td>\n",
       "      <td>True</td>\n",
       "      <td>former</td>\n",
       "      <td>9.0</td>\n",
       "      <td>NaN</td>\n",
       "      <td>Saint Penelope Medical Center</td>\n",
       "      <td>14562556998</td>\n",
       "      <td>NaN</td>\n",
       "      <td>NaN</td>\n",
       "      <td>NaN</td>\n",
       "      <td>NaN</td>\n",
       "    </tr>\n",
       "  </tbody>\n",
       "</table>\n",
       "</div>"
      ],
      "text/plain": [
       "  patient_id demographics.gender  demographics.age status.disease_sub_type  \\\n",
       "0  102bb8fae              Female              68.0                       A   \n",
       "1  10e32947f              Female              66.0                       A   \n",
       "2  11156e14a                Male              61.0                       A   \n",
       "3  113d8066d                Male              62.0                       B   \n",
       "4   113ec3f1                Male              59.0                       A   \n",
       "\n",
       "   status.comorbidity_index  status.cohort_qualifier status.smoking_status  \\\n",
       "0                       0.0                     True                 never   \n",
       "1                       NaN                     True                former   \n",
       "2                       1.0                     True                 never   \n",
       "3                       NaN                     True               current   \n",
       "4                       NaN                     True                former   \n",
       "\n",
       "   status.months_since_diagnosis demographics.race  \\\n",
       "0                            1.0               NaN   \n",
       "1                            0.0             White   \n",
       "2                           16.0             White   \n",
       "3                            0.0               NaN   \n",
       "4                            9.0               NaN   \n",
       "\n",
       "                     institution    cohort_id  status.days_since_diagnosis  \\\n",
       "0  Saint Penelope Medical Center  14562556998                          NaN   \n",
       "1  Saint Penelope Medical Center  14562556998                          NaN   \n",
       "2  Saint Penelope Medical Center  14562556998                          NaN   \n",
       "3  Saint Penelope Medical Center  14562556998                          NaN   \n",
       "4  Saint Penelope Medical Center  14562556998                          NaN   \n",
       "\n",
       "  status.alcohol_usage  status.exercise_frequency status.bmi_level  \n",
       "0                  NaN                        NaN              NaN  \n",
       "1                  NaN                        NaN              NaN  \n",
       "2                  NaN                        NaN              NaN  \n",
       "3                  NaN                        NaN              NaN  \n",
       "4                  NaN                        NaN              NaN  "
      ]
     },
     "execution_count": 3,
     "metadata": {},
     "output_type": "execute_result"
    }
   ],
   "source": [
    "pt_df = pd.read_json('./data/patient_profiles.json', orient='records')\n",
    "pt_df.shape\n",
    "pt_df.head()\n",
    "\n",
    "prof_list= pt_df['patient_profiles'].tolist()\n",
    "#len(prof_list)\n",
    "\n",
    "unioned_df = pd.DataFrame()\n",
    "for w in pt_df.index:\n",
    "    df0 = unioned_df\n",
    "    df1=pd.json_normalize(prof_list[w])\n",
    "    df1['institution'] = pt_df.iloc[w, 0]\n",
    "    df1['cohort_id'] = pt_df.iloc[w, 1]\n",
    "    unioned_df = pd.concat([df0, df1])\n",
    "unioned_df.shape\n",
    "unioned_df.head()"
   ]
  },
  {
   "cell_type": "markdown",
   "metadata": {},
   "source": [
    "## 1.2. Targets table"
   ]
  },
  {
   "cell_type": "code",
   "execution_count": 4,
   "metadata": {},
   "outputs": [
    {
     "data": {
      "text/plain": [
       "(1734, 3)"
      ]
     },
     "execution_count": 4,
     "metadata": {},
     "output_type": "execute_result"
    },
    {
     "data": {
      "text/html": [
       "<div>\n",
       "<style scoped>\n",
       "    .dataframe tbody tr th:only-of-type {\n",
       "        vertical-align: middle;\n",
       "    }\n",
       "\n",
       "    .dataframe tbody tr th {\n",
       "        vertical-align: top;\n",
       "    }\n",
       "\n",
       "    .dataframe thead th {\n",
       "        text-align: right;\n",
       "    }\n",
       "</style>\n",
       "<table border=\"1\" class=\"dataframe\">\n",
       "  <thead>\n",
       "    <tr style=\"text-align: right;\">\n",
       "      <th></th>\n",
       "      <th>patient_id</th>\n",
       "      <th>biomarker_id</th>\n",
       "      <th>target_label</th>\n",
       "    </tr>\n",
       "  </thead>\n",
       "  <tbody>\n",
       "    <tr>\n",
       "      <th>0</th>\n",
       "      <td>1002df1d3</td>\n",
       "      <td>89c43bb4</td>\n",
       "      <td>0</td>\n",
       "    </tr>\n",
       "    <tr>\n",
       "      <th>1</th>\n",
       "      <td>1010441f</td>\n",
       "      <td>3ae31327</td>\n",
       "      <td>0</td>\n",
       "    </tr>\n",
       "    <tr>\n",
       "      <th>2</th>\n",
       "      <td>101eb6af1</td>\n",
       "      <td>1d8f7bab9</td>\n",
       "      <td>0</td>\n",
       "    </tr>\n",
       "    <tr>\n",
       "      <th>3</th>\n",
       "      <td>10204394e</td>\n",
       "      <td>129ee8c6c</td>\n",
       "      <td>0</td>\n",
       "    </tr>\n",
       "    <tr>\n",
       "      <th>4</th>\n",
       "      <td>1021d329b</td>\n",
       "      <td>1b44145bd</td>\n",
       "      <td>0</td>\n",
       "    </tr>\n",
       "  </tbody>\n",
       "</table>\n",
       "</div>"
      ],
      "text/plain": [
       "  patient_id biomarker_id  target_label\n",
       "0  1002df1d3     89c43bb4             0\n",
       "1   1010441f     3ae31327             0\n",
       "2  101eb6af1    1d8f7bab9             0\n",
       "3  10204394e    129ee8c6c             0\n",
       "4  1021d329b    1b44145bd             0"
      ]
     },
     "execution_count": 4,
     "metadata": {},
     "output_type": "execute_result"
    },
    {
     "name": "stdout",
     "output_type": "stream",
     "text": [
      "1734 2351\n"
     ]
    }
   ],
   "source": [
    "target = pd.read_csv('./data/targets.csv')\n",
    "target.shape\n",
    "target.head()\n",
    "\n",
    "print(len(target['patient_id'].unique()), len(unioned_df['patient_id'].unique()))"
   ]
  },
  {
   "cell_type": "markdown",
   "metadata": {},
   "source": [
    "### # of patient in target_label is 1734, # of patient in patient profile is 2351. So target table is left joined with patient profile"
   ]
  },
  {
   "cell_type": "code",
   "execution_count": 5,
   "metadata": {
    "id": "bvIk2Pq9_QCz"
   },
   "outputs": [
    {
     "data": {
      "text/html": [
       "<div>\n",
       "<style scoped>\n",
       "    .dataframe tbody tr th:only-of-type {\n",
       "        vertical-align: middle;\n",
       "    }\n",
       "\n",
       "    .dataframe tbody tr th {\n",
       "        vertical-align: top;\n",
       "    }\n",
       "\n",
       "    .dataframe thead th {\n",
       "        text-align: right;\n",
       "    }\n",
       "</style>\n",
       "<table border=\"1\" class=\"dataframe\">\n",
       "  <thead>\n",
       "    <tr style=\"text-align: right;\">\n",
       "      <th></th>\n",
       "      <th>patient_id</th>\n",
       "      <th>biomarker_id</th>\n",
       "      <th>target_label</th>\n",
       "      <th>demographics.gender</th>\n",
       "      <th>demographics.age</th>\n",
       "      <th>status.disease_sub_type</th>\n",
       "      <th>status.comorbidity_index</th>\n",
       "      <th>status.cohort_qualifier</th>\n",
       "      <th>status.smoking_status</th>\n",
       "      <th>status.months_since_diagnosis</th>\n",
       "      <th>demographics.race</th>\n",
       "      <th>institution</th>\n",
       "      <th>cohort_id</th>\n",
       "      <th>status.days_since_diagnosis</th>\n",
       "      <th>status.alcohol_usage</th>\n",
       "      <th>status.exercise_frequency</th>\n",
       "      <th>status.bmi_level</th>\n",
       "    </tr>\n",
       "  </thead>\n",
       "  <tbody>\n",
       "    <tr>\n",
       "      <th>0</th>\n",
       "      <td>1002df1d3</td>\n",
       "      <td>89c43bb4</td>\n",
       "      <td>0</td>\n",
       "      <td>Male</td>\n",
       "      <td>46.0</td>\n",
       "      <td>A</td>\n",
       "      <td>NaN</td>\n",
       "      <td>True</td>\n",
       "      <td>former</td>\n",
       "      <td>20.0</td>\n",
       "      <td>Asian</td>\n",
       "      <td>University Hospital System</td>\n",
       "      <td>14562556998</td>\n",
       "      <td>NaN</td>\n",
       "      <td>NaN</td>\n",
       "      <td>NaN</td>\n",
       "      <td>NaN</td>\n",
       "    </tr>\n",
       "  </tbody>\n",
       "</table>\n",
       "</div>"
      ],
      "text/plain": [
       "  patient_id biomarker_id  target_label demographics.gender  demographics.age  \\\n",
       "0  1002df1d3     89c43bb4             0                Male              46.0   \n",
       "\n",
       "  status.disease_sub_type  status.comorbidity_index  status.cohort_qualifier  \\\n",
       "0                       A                       NaN                     True   \n",
       "\n",
       "  status.smoking_status  status.months_since_diagnosis demographics.race  \\\n",
       "0                former                           20.0             Asian   \n",
       "\n",
       "                  institution    cohort_id  status.days_since_diagnosis  \\\n",
       "0  University Hospital System  14562556998                          NaN   \n",
       "\n",
       "  status.alcohol_usage  status.exercise_frequency status.bmi_level  \n",
       "0                  NaN                        NaN              NaN  "
      ]
     },
     "execution_count": 5,
     "metadata": {},
     "output_type": "execute_result"
    },
    {
     "data": {
      "text/plain": [
       "(1734, 17)"
      ]
     },
     "execution_count": 5,
     "metadata": {},
     "output_type": "execute_result"
    }
   ],
   "source": [
    "pt_profile = pd.merge(target, unioned_df, how = 'left', on = 'patient_id' )\n",
    "pt_profile.head(1)\n",
    "pt_profile.shape"
   ]
  },
  {
   "cell_type": "markdown",
   "metadata": {},
   "source": [
    "## 1.3. Data profiling for patient profile"
   ]
  },
  {
   "cell_type": "raw",
   "metadata": {
    "jupyter": {
     "outputs_hidden": true
    },
    "tags": []
   },
   "source": [
    "pt_profile_report = pandas_profiling.ProfileReport(pt_profile)\n",
    "pt_profile_report#.to_file(\"pt_profile.html\")"
   ]
  },
  {
   "cell_type": "markdown",
   "metadata": {},
   "source": [
    "## Summary of observations from profiling\n",
    "- Mixture of upper and lower case string values in: \n",
    "    - gender, \n",
    "    - smoking_status \n",
    "    - race\n",
    "- Missing values in \n",
    "    - age, \n",
    "    - race, \n",
    "    - comorbidity_index, \n",
    "    - smoking_status, \n",
    "    - months_since_diagnosis, \n",
    "    - days_since_diagnosis, \n",
    "    - alcohol_usage, \n",
    "    - exercise_frequency, \n",
    "    - alcohol_usage, \n",
    "    - bmi_level\n",
    "* High correlation between some variables, such as gender with smoking, race, and institution, institution with bmi, exercise, alcohol_usage"
   ]
  },
  {
   "cell_type": "markdown",
   "metadata": {
    "tags": []
   },
   "source": [
    "## 1.4. Preprocessing patient profile \n",
    "* Normalized upper and lowercase string values\n",
    "* Dealing with missing values by filling categorical variables with \"unknown\" and continuous variables with median value"
   ]
  },
  {
   "cell_type": "code",
   "execution_count": 6,
   "metadata": {
    "tags": []
   },
   "outputs": [
    {
     "data": {
      "text/plain": [
       "array(['Male', 'MALE', 'Female', 'FEMALE'], dtype=object)"
      ]
     },
     "execution_count": 6,
     "metadata": {},
     "output_type": "execute_result"
    },
    {
     "data": {
      "text/plain": [
       "array(['male', 'female'], dtype=object)"
      ]
     },
     "execution_count": 6,
     "metadata": {},
     "output_type": "execute_result"
    },
    {
     "data": {
      "text/plain": [
       "array(['Male', 'MALE', 'Female', 'FEMALE'], dtype=object)"
      ]
     },
     "execution_count": 6,
     "metadata": {},
     "output_type": "execute_result"
    },
    {
     "data": {
      "text/html": [
       "<div>\n",
       "<style scoped>\n",
       "    .dataframe tbody tr th:only-of-type {\n",
       "        vertical-align: middle;\n",
       "    }\n",
       "\n",
       "    .dataframe tbody tr th {\n",
       "        vertical-align: top;\n",
       "    }\n",
       "\n",
       "    .dataframe thead th {\n",
       "        text-align: right;\n",
       "    }\n",
       "</style>\n",
       "<table border=\"1\" class=\"dataframe\">\n",
       "  <thead>\n",
       "    <tr style=\"text-align: right;\">\n",
       "      <th></th>\n",
       "      <th>gender</th>\n",
       "      <th>demographics.gender</th>\n",
       "    </tr>\n",
       "  </thead>\n",
       "  <tbody>\n",
       "    <tr>\n",
       "      <th>0</th>\n",
       "      <td>male</td>\n",
       "      <td>Male</td>\n",
       "    </tr>\n",
       "    <tr>\n",
       "      <th>1</th>\n",
       "      <td>male</td>\n",
       "      <td>MALE</td>\n",
       "    </tr>\n",
       "    <tr>\n",
       "      <th>2</th>\n",
       "      <td>female</td>\n",
       "      <td>Female</td>\n",
       "    </tr>\n",
       "    <tr>\n",
       "      <th>3</th>\n",
       "      <td>male</td>\n",
       "      <td>Male</td>\n",
       "    </tr>\n",
       "    <tr>\n",
       "      <th>4</th>\n",
       "      <td>male</td>\n",
       "      <td>Male</td>\n",
       "    </tr>\n",
       "  </tbody>\n",
       "</table>\n",
       "</div>"
      ],
      "text/plain": [
       "   gender demographics.gender\n",
       "0    male                Male\n",
       "1    male                MALE\n",
       "2  female              Female\n",
       "3    male                Male\n",
       "4    male                Male"
      ]
     },
     "execution_count": 6,
     "metadata": {},
     "output_type": "execute_result"
    }
   ],
   "source": [
    "pt_profile['demographics.gender'].unique()\n",
    "pt_profile['gender']=pt_profile['demographics.gender'].apply(lambda x: x.strip().lower())#.apply(lambda x: 1 if x.strip().lower() == 'male' else 0)\n",
    "pt_profile['gender'].unique()\n",
    "pt_profile['demographics.gender'].unique()\n",
    "pt_profile[['gender', 'demographics.gender']][:5]"
   ]
  },
  {
   "cell_type": "code",
   "execution_count": 7,
   "metadata": {},
   "outputs": [
    {
     "data": {
      "text/plain": [
       "array(['Asian', 'BLACK OR AFRICAN AMERICAN', nan, 'White',\n",
       "       'Black or African American', 'WHITE',\n",
       "       'Native Hawaiian or Other Pacific Islander', 'ASIAN',\n",
       "       'American Indian or Alaska Native',\n",
       "       'NATIVE HAWAIIAN OR OTHER PACIFIC ISLANDER',\n",
       "       'AMERICAN INDIAN OR ALASKA NATIVE'], dtype=object)"
      ]
     },
     "execution_count": 7,
     "metadata": {},
     "output_type": "execute_result"
    },
    {
     "data": {
      "text/plain": [
       "array(['asian', 'black or african american', 'missing', 'white',\n",
       "       'native hawaiian or other pacific islander',\n",
       "       'american indian or alaska native'], dtype=object)"
      ]
     },
     "execution_count": 7,
     "metadata": {},
     "output_type": "execute_result"
    },
    {
     "data": {
      "text/html": [
       "<div>\n",
       "<style scoped>\n",
       "    .dataframe tbody tr th:only-of-type {\n",
       "        vertical-align: middle;\n",
       "    }\n",
       "\n",
       "    .dataframe tbody tr th {\n",
       "        vertical-align: top;\n",
       "    }\n",
       "\n",
       "    .dataframe thead th {\n",
       "        text-align: right;\n",
       "    }\n",
       "</style>\n",
       "<table border=\"1\" class=\"dataframe\">\n",
       "  <thead>\n",
       "    <tr style=\"text-align: right;\">\n",
       "      <th></th>\n",
       "      <th>race</th>\n",
       "      <th>demographics.race</th>\n",
       "    </tr>\n",
       "  </thead>\n",
       "  <tbody>\n",
       "    <tr>\n",
       "      <th>0</th>\n",
       "      <td>asian</td>\n",
       "      <td>Asian</td>\n",
       "    </tr>\n",
       "    <tr>\n",
       "      <th>1</th>\n",
       "      <td>black or african american</td>\n",
       "      <td>BLACK OR AFRICAN AMERICAN</td>\n",
       "    </tr>\n",
       "    <tr>\n",
       "      <th>2</th>\n",
       "      <td>missing</td>\n",
       "      <td>NaN</td>\n",
       "    </tr>\n",
       "    <tr>\n",
       "      <th>3</th>\n",
       "      <td>white</td>\n",
       "      <td>White</td>\n",
       "    </tr>\n",
       "    <tr>\n",
       "      <th>4</th>\n",
       "      <td>asian</td>\n",
       "      <td>Asian</td>\n",
       "    </tr>\n",
       "  </tbody>\n",
       "</table>\n",
       "</div>"
      ],
      "text/plain": [
       "                        race          demographics.race\n",
       "0                      asian                      Asian\n",
       "1  black or african american  BLACK OR AFRICAN AMERICAN\n",
       "2                    missing                        NaN\n",
       "3                      white                      White\n",
       "4                      asian                      Asian"
      ]
     },
     "execution_count": 7,
     "metadata": {},
     "output_type": "execute_result"
    }
   ],
   "source": [
    "pt_profile['demographics.race'].unique()\n",
    "pt_profile['race']=pt_profile['demographics.race'].fillna('missing').apply(lambda x: x.strip().lower())\n",
    "pt_profile['race'].unique()\n",
    "pt_profile[['race', 'demographics.race']][:5]"
   ]
  },
  {
   "cell_type": "code",
   "execution_count": 8,
   "metadata": {},
   "outputs": [
    {
     "data": {
      "text/plain": [
       "array(['former', 'NEVER', 'never', 'current', nan, 'CURRENT', 'unknown',\n",
       "       'FORMER', 'UNKNOWN'], dtype=object)"
      ]
     },
     "execution_count": 8,
     "metadata": {},
     "output_type": "execute_result"
    },
    {
     "data": {
      "text/plain": [
       "array(['former', 'never', 'current', 'unknown'], dtype=object)"
      ]
     },
     "execution_count": 8,
     "metadata": {},
     "output_type": "execute_result"
    },
    {
     "data": {
      "text/html": [
       "<div>\n",
       "<style scoped>\n",
       "    .dataframe tbody tr th:only-of-type {\n",
       "        vertical-align: middle;\n",
       "    }\n",
       "\n",
       "    .dataframe tbody tr th {\n",
       "        vertical-align: top;\n",
       "    }\n",
       "\n",
       "    .dataframe thead th {\n",
       "        text-align: right;\n",
       "    }\n",
       "</style>\n",
       "<table border=\"1\" class=\"dataframe\">\n",
       "  <thead>\n",
       "    <tr style=\"text-align: right;\">\n",
       "      <th></th>\n",
       "      <th>smoking</th>\n",
       "      <th>status.smoking_status</th>\n",
       "    </tr>\n",
       "  </thead>\n",
       "  <tbody>\n",
       "    <tr>\n",
       "      <th>0</th>\n",
       "      <td>former</td>\n",
       "      <td>former</td>\n",
       "    </tr>\n",
       "    <tr>\n",
       "      <th>1</th>\n",
       "      <td>never</td>\n",
       "      <td>NEVER</td>\n",
       "    </tr>\n",
       "    <tr>\n",
       "      <th>2</th>\n",
       "      <td>never</td>\n",
       "      <td>never</td>\n",
       "    </tr>\n",
       "    <tr>\n",
       "      <th>3</th>\n",
       "      <td>never</td>\n",
       "      <td>never</td>\n",
       "    </tr>\n",
       "    <tr>\n",
       "      <th>4</th>\n",
       "      <td>former</td>\n",
       "      <td>former</td>\n",
       "    </tr>\n",
       "  </tbody>\n",
       "</table>\n",
       "</div>"
      ],
      "text/plain": [
       "  smoking status.smoking_status\n",
       "0  former                former\n",
       "1   never                 NEVER\n",
       "2   never                 never\n",
       "3   never                 never\n",
       "4  former                former"
      ]
     },
     "execution_count": 8,
     "metadata": {},
     "output_type": "execute_result"
    }
   ],
   "source": [
    "pt_profile['status.smoking_status'].unique()\n",
    "pt_profile['smoking']=pt_profile['status.smoking_status'].fillna('unknown').apply(lambda x: x.strip().lower())\n",
    "pt_profile['smoking'].unique()\n",
    "pt_profile[['smoking', 'status.smoking_status']][:5]"
   ]
  },
  {
   "cell_type": "code",
   "execution_count": 9,
   "metadata": {},
   "outputs": [
    {
     "data": {
      "text/plain": [
       "count    1611.000000\n",
       "mean       59.790813\n",
       "std         9.516331\n",
       "min        25.000000\n",
       "25%        54.000000\n",
       "50%        61.000000\n",
       "75%        67.000000\n",
       "max        83.000000\n",
       "Name: demographics.age, dtype: float64"
      ]
     },
     "execution_count": 9,
     "metadata": {},
     "output_type": "execute_result"
    },
    {
     "data": {
      "text/plain": [
       "count    1734.000000\n",
       "mean       59.876586\n",
       "std         9.177659\n",
       "min        25.000000\n",
       "25%        55.000000\n",
       "50%        61.000000\n",
       "75%        66.000000\n",
       "max        83.000000\n",
       "Name: age, dtype: float64"
      ]
     },
     "execution_count": 9,
     "metadata": {},
     "output_type": "execute_result"
    },
    {
     "data": {
      "text/html": [
       "<div>\n",
       "<style scoped>\n",
       "    .dataframe tbody tr th:only-of-type {\n",
       "        vertical-align: middle;\n",
       "    }\n",
       "\n",
       "    .dataframe tbody tr th {\n",
       "        vertical-align: top;\n",
       "    }\n",
       "\n",
       "    .dataframe thead th {\n",
       "        text-align: right;\n",
       "    }\n",
       "</style>\n",
       "<table border=\"1\" class=\"dataframe\">\n",
       "  <thead>\n",
       "    <tr style=\"text-align: right;\">\n",
       "      <th></th>\n",
       "      <th>age</th>\n",
       "      <th>demographics.age</th>\n",
       "    </tr>\n",
       "  </thead>\n",
       "  <tbody>\n",
       "    <tr>\n",
       "      <th>0</th>\n",
       "      <td>46.0</td>\n",
       "      <td>46.0</td>\n",
       "    </tr>\n",
       "    <tr>\n",
       "      <th>1</th>\n",
       "      <td>52.0</td>\n",
       "      <td>52.0</td>\n",
       "    </tr>\n",
       "    <tr>\n",
       "      <th>2</th>\n",
       "      <td>55.0</td>\n",
       "      <td>55.0</td>\n",
       "    </tr>\n",
       "    <tr>\n",
       "      <th>3</th>\n",
       "      <td>69.0</td>\n",
       "      <td>69.0</td>\n",
       "    </tr>\n",
       "    <tr>\n",
       "      <th>4</th>\n",
       "      <td>52.0</td>\n",
       "      <td>52.0</td>\n",
       "    </tr>\n",
       "  </tbody>\n",
       "</table>\n",
       "</div>"
      ],
      "text/plain": [
       "    age  demographics.age\n",
       "0  46.0              46.0\n",
       "1  52.0              52.0\n",
       "2  55.0              55.0\n",
       "3  69.0              69.0\n",
       "4  52.0              52.0"
      ]
     },
     "execution_count": 9,
     "metadata": {},
     "output_type": "execute_result"
    },
    {
     "name": "stdout",
     "output_type": "stream",
     "text": [
      "\n",
      "Missing Value Summary\n",
      "-----------------------------------\n",
      "age                   0\n",
      "demographics.age    123\n",
      "dtype: int64\n"
     ]
    }
   ],
   "source": [
    "pt_profile['demographics.age'].describe()\n",
    "pt_profile['age']=pt_profile.loc[:, 'demographics.age'].fillna(pt_profile['demographics.age'].median())\n",
    "pt_profile['age'].describe()\n",
    "pt_profile[['age', 'demographics.age']][:5]\n",
    "\n",
    "checking_missing(pt_profile[['age', 'demographics.age']], pt_profile[['age', 'demographics.age']].columns)"
   ]
  },
  {
   "cell_type": "code",
   "execution_count": 10,
   "metadata": {},
   "outputs": [
    {
     "data": {
      "text/plain": [
       "array([nan,  1.,  0.,  2.])"
      ]
     },
     "execution_count": 10,
     "metadata": {},
     "output_type": "execute_result"
    },
    {
     "data": {
      "text/plain": [
       "array(['unknown', '1.0', '0.0', '2.0'], dtype=object)"
      ]
     },
     "execution_count": 10,
     "metadata": {},
     "output_type": "execute_result"
    },
    {
     "data": {
      "text/html": [
       "<div>\n",
       "<style scoped>\n",
       "    .dataframe tbody tr th:only-of-type {\n",
       "        vertical-align: middle;\n",
       "    }\n",
       "\n",
       "    .dataframe tbody tr th {\n",
       "        vertical-align: top;\n",
       "    }\n",
       "\n",
       "    .dataframe thead th {\n",
       "        text-align: right;\n",
       "    }\n",
       "</style>\n",
       "<table border=\"1\" class=\"dataframe\">\n",
       "  <thead>\n",
       "    <tr style=\"text-align: right;\">\n",
       "      <th></th>\n",
       "      <th>comorbidity</th>\n",
       "      <th>status.comorbidity_index</th>\n",
       "    </tr>\n",
       "  </thead>\n",
       "  <tbody>\n",
       "    <tr>\n",
       "      <th>0</th>\n",
       "      <td>unknown</td>\n",
       "      <td>NaN</td>\n",
       "    </tr>\n",
       "    <tr>\n",
       "      <th>1</th>\n",
       "      <td>unknown</td>\n",
       "      <td>NaN</td>\n",
       "    </tr>\n",
       "    <tr>\n",
       "      <th>2</th>\n",
       "      <td>unknown</td>\n",
       "      <td>NaN</td>\n",
       "    </tr>\n",
       "    <tr>\n",
       "      <th>3</th>\n",
       "      <td>unknown</td>\n",
       "      <td>NaN</td>\n",
       "    </tr>\n",
       "    <tr>\n",
       "      <th>4</th>\n",
       "      <td>unknown</td>\n",
       "      <td>NaN</td>\n",
       "    </tr>\n",
       "  </tbody>\n",
       "</table>\n",
       "</div>"
      ],
      "text/plain": [
       "  comorbidity  status.comorbidity_index\n",
       "0     unknown                       NaN\n",
       "1     unknown                       NaN\n",
       "2     unknown                       NaN\n",
       "3     unknown                       NaN\n",
       "4     unknown                       NaN"
      ]
     },
     "execution_count": 10,
     "metadata": {},
     "output_type": "execute_result"
    }
   ],
   "source": [
    "pt_profile['status.comorbidity_index'].unique()\n",
    "pt_profile['comorbidity']=pt_profile['status.comorbidity_index'].astype('string').fillna('unknown').apply(lambda x: x.strip().lower())\n",
    "pt_profile['comorbidity'].unique()\n",
    "pt_profile[['comorbidity', 'status.comorbidity_index']][:5]"
   ]
  },
  {
   "cell_type": "code",
   "execution_count": 11,
   "metadata": {
    "tags": []
   },
   "outputs": [
    {
     "name": "stdout",
     "output_type": "stream",
     "text": [
      "\n",
      "Missing Value Summary\n",
      "-----------------------------------\n",
      "status.months_since_diagnosis     123\n",
      "status.days_since_diagnosis      1611\n",
      "dtype: int64\n"
     ]
    },
    {
     "data": {
      "image/png": "[encoded data removed]",
      "text/plain": [
       "<Figure size 1800x720 with 2 Axes>"
      ]
     },
     "metadata": {
      "needs_background": "light"
     },
     "output_type": "display_data"
    }
   ],
   "source": [
    "df_days = pt_profile[['status.months_since_diagnosis', 'status.days_since_diagnosis']]\n",
    "checking_missing(df_days, df_days.columns)\n",
    "mbar=msno.matrix(df_days)"
   ]
  },
  {
   "cell_type": "markdown",
   "metadata": {},
   "source": [
    "#### Missing values in days_since_diagnosis and months_since_diagnosis are interwinded. So we create a new column by combining them together. "
   ]
  },
  {
   "cell_type": "code",
   "execution_count": 12,
   "metadata": {
    "tags": []
   },
   "outputs": [
    {
     "data": {
      "text/html": [
       "<div>\n",
       "<style scoped>\n",
       "    .dataframe tbody tr th:only-of-type {\n",
       "        vertical-align: middle;\n",
       "    }\n",
       "\n",
       "    .dataframe tbody tr th {\n",
       "        vertical-align: top;\n",
       "    }\n",
       "\n",
       "    .dataframe thead th {\n",
       "        text-align: right;\n",
       "    }\n",
       "</style>\n",
       "<table border=\"1\" class=\"dataframe\">\n",
       "  <thead>\n",
       "    <tr style=\"text-align: right;\">\n",
       "      <th></th>\n",
       "      <th>days_after_dx</th>\n",
       "      <th>status.months_since_diagnosis</th>\n",
       "      <th>status.days_since_diagnosis</th>\n",
       "    </tr>\n",
       "  </thead>\n",
       "  <tbody>\n",
       "    <tr>\n",
       "      <th>0</th>\n",
       "      <td>600.0</td>\n",
       "      <td>20.0</td>\n",
       "      <td>NaN</td>\n",
       "    </tr>\n",
       "    <tr>\n",
       "      <th>1</th>\n",
       "      <td>0.0</td>\n",
       "      <td>0.0</td>\n",
       "      <td>NaN</td>\n",
       "    </tr>\n",
       "    <tr>\n",
       "      <th>2</th>\n",
       "      <td>0.0</td>\n",
       "      <td>0.0</td>\n",
       "      <td>NaN</td>\n",
       "    </tr>\n",
       "    <tr>\n",
       "      <th>3</th>\n",
       "      <td>270.0</td>\n",
       "      <td>9.0</td>\n",
       "      <td>NaN</td>\n",
       "    </tr>\n",
       "    <tr>\n",
       "      <th>4</th>\n",
       "      <td>300.0</td>\n",
       "      <td>10.0</td>\n",
       "      <td>NaN</td>\n",
       "    </tr>\n",
       "    <tr>\n",
       "      <th>5</th>\n",
       "      <td>0.0</td>\n",
       "      <td>0.0</td>\n",
       "      <td>NaN</td>\n",
       "    </tr>\n",
       "    <tr>\n",
       "      <th>6</th>\n",
       "      <td>0.0</td>\n",
       "      <td>0.0</td>\n",
       "      <td>NaN</td>\n",
       "    </tr>\n",
       "    <tr>\n",
       "      <th>7</th>\n",
       "      <td>510.0</td>\n",
       "      <td>17.0</td>\n",
       "      <td>NaN</td>\n",
       "    </tr>\n",
       "    <tr>\n",
       "      <th>8</th>\n",
       "      <td>150.0</td>\n",
       "      <td>5.0</td>\n",
       "      <td>NaN</td>\n",
       "    </tr>\n",
       "    <tr>\n",
       "      <th>9</th>\n",
       "      <td>0.0</td>\n",
       "      <td>NaN</td>\n",
       "      <td>0.0</td>\n",
       "    </tr>\n",
       "  </tbody>\n",
       "</table>\n",
       "</div>"
      ],
      "text/plain": [
       "   days_after_dx  status.months_since_diagnosis  status.days_since_diagnosis\n",
       "0          600.0                           20.0                          NaN\n",
       "1            0.0                            0.0                          NaN\n",
       "2            0.0                            0.0                          NaN\n",
       "3          270.0                            9.0                          NaN\n",
       "4          300.0                           10.0                          NaN\n",
       "5            0.0                            0.0                          NaN\n",
       "6            0.0                            0.0                          NaN\n",
       "7          510.0                           17.0                          NaN\n",
       "8          150.0                            5.0                          NaN\n",
       "9            0.0                            NaN                          0.0"
      ]
     },
     "execution_count": 12,
     "metadata": {},
     "output_type": "execute_result"
    },
    {
     "name": "stdout",
     "output_type": "stream",
     "text": [
      "\n",
      "Missing Value Summary\n",
      "-----------------------------------\n",
      "days_after_dx                       0\n",
      "status.months_since_diagnosis     123\n",
      "status.days_since_diagnosis      1611\n",
      "dtype: int64\n"
     ]
    },
    {
     "data": {
      "image/png": "[encoded data removed]",
      "text/plain": [
       "<Figure size 1800x720 with 2 Axes>"
      ]
     },
     "metadata": {
      "needs_background": "light"
     },
     "output_type": "display_data"
    }
   ],
   "source": [
    "pt_profile['days_after_dx']=np.where(pt_profile['status.days_since_diagnosis'].isnull(), pt_profile['status.months_since_diagnosis']*30, pt_profile['status.days_since_diagnosis'])\n",
    "\n",
    "df_days = pt_profile[['days_after_dx', 'status.months_since_diagnosis', 'status.days_since_diagnosis']]\n",
    "df_days[:10]\n",
    "checking_missing(df_days, df_days.columns)\n",
    "mbar=msno.matrix(df_days)"
   ]
  },
  {
   "cell_type": "code",
   "execution_count": 13,
   "metadata": {},
   "outputs": [
    {
     "data": {
      "text/plain": [
       "array([nan, 'LOW', 'NONE', 'MODERATE', 'HIGH'], dtype=object)"
      ]
     },
     "execution_count": 13,
     "metadata": {},
     "output_type": "execute_result"
    },
    {
     "data": {
      "text/plain": [
       "array(['unknown', 'low', 'none', 'moderate', 'high'], dtype=object)"
      ]
     },
     "execution_count": 13,
     "metadata": {},
     "output_type": "execute_result"
    },
    {
     "data": {
      "text/html": [
       "<div>\n",
       "<style scoped>\n",
       "    .dataframe tbody tr th:only-of-type {\n",
       "        vertical-align: middle;\n",
       "    }\n",
       "\n",
       "    .dataframe tbody tr th {\n",
       "        vertical-align: top;\n",
       "    }\n",
       "\n",
       "    .dataframe thead th {\n",
       "        text-align: right;\n",
       "    }\n",
       "</style>\n",
       "<table border=\"1\" class=\"dataframe\">\n",
       "  <thead>\n",
       "    <tr style=\"text-align: right;\">\n",
       "      <th></th>\n",
       "      <th>alcohol</th>\n",
       "      <th>status.alcohol_usage</th>\n",
       "    </tr>\n",
       "  </thead>\n",
       "  <tbody>\n",
       "    <tr>\n",
       "      <th>0</th>\n",
       "      <td>unknown</td>\n",
       "      <td>NaN</td>\n",
       "    </tr>\n",
       "    <tr>\n",
       "      <th>1</th>\n",
       "      <td>low</td>\n",
       "      <td>LOW</td>\n",
       "    </tr>\n",
       "    <tr>\n",
       "      <th>2</th>\n",
       "      <td>unknown</td>\n",
       "      <td>NaN</td>\n",
       "    </tr>\n",
       "    <tr>\n",
       "      <th>3</th>\n",
       "      <td>unknown</td>\n",
       "      <td>NaN</td>\n",
       "    </tr>\n",
       "    <tr>\n",
       "      <th>4</th>\n",
       "      <td>unknown</td>\n",
       "      <td>NaN</td>\n",
       "    </tr>\n",
       "  </tbody>\n",
       "</table>\n",
       "</div>"
      ],
      "text/plain": [
       "   alcohol status.alcohol_usage\n",
       "0  unknown                  NaN\n",
       "1      low                  LOW\n",
       "2  unknown                  NaN\n",
       "3  unknown                  NaN\n",
       "4  unknown                  NaN"
      ]
     },
     "execution_count": 13,
     "metadata": {},
     "output_type": "execute_result"
    },
    {
     "name": "stdout",
     "output_type": "stream",
     "text": [
      "\n",
      "Missing Value Summary\n",
      "-----------------------------------\n",
      "alcohol                    0\n",
      "status.alcohol_usage    1404\n",
      "dtype: int64\n"
     ]
    }
   ],
   "source": [
    "pt_profile['status.alcohol_usage'].unique()\n",
    "pt_profile['alcohol']=pt_profile['status.alcohol_usage'].astype('string').fillna('unknown').apply(lambda x: x.strip().lower())\n",
    "pt_profile['alcohol'].unique()\n",
    "pt_profile[['alcohol', 'status.alcohol_usage']][:5]\n",
    "\n",
    "checking_missing(pt_profile[['alcohol', 'status.alcohol_usage']], pt_profile[['alcohol', 'status.alcohol_usage']].columns)"
   ]
  },
  {
   "cell_type": "code",
   "execution_count": 14,
   "metadata": {},
   "outputs": [
    {
     "data": {
      "text/plain": [
       "array([nan,  0.,  2.,  1.])"
      ]
     },
     "execution_count": 14,
     "metadata": {},
     "output_type": "execute_result"
    },
    {
     "data": {
      "text/plain": [
       "array(['unknown', '0.0', '2.0', '1.0'], dtype=object)"
      ]
     },
     "execution_count": 14,
     "metadata": {},
     "output_type": "execute_result"
    },
    {
     "data": {
      "text/html": [
       "<div>\n",
       "<style scoped>\n",
       "    .dataframe tbody tr th:only-of-type {\n",
       "        vertical-align: middle;\n",
       "    }\n",
       "\n",
       "    .dataframe tbody tr th {\n",
       "        vertical-align: top;\n",
       "    }\n",
       "\n",
       "    .dataframe thead th {\n",
       "        text-align: right;\n",
       "    }\n",
       "</style>\n",
       "<table border=\"1\" class=\"dataframe\">\n",
       "  <thead>\n",
       "    <tr style=\"text-align: right;\">\n",
       "      <th></th>\n",
       "      <th>exercise</th>\n",
       "      <th>status.exercise_frequency</th>\n",
       "    </tr>\n",
       "  </thead>\n",
       "  <tbody>\n",
       "    <tr>\n",
       "      <th>0</th>\n",
       "      <td>unknown</td>\n",
       "      <td>NaN</td>\n",
       "    </tr>\n",
       "    <tr>\n",
       "      <th>1</th>\n",
       "      <td>0.0</td>\n",
       "      <td>0.0</td>\n",
       "    </tr>\n",
       "    <tr>\n",
       "      <th>2</th>\n",
       "      <td>unknown</td>\n",
       "      <td>NaN</td>\n",
       "    </tr>\n",
       "    <tr>\n",
       "      <th>3</th>\n",
       "      <td>unknown</td>\n",
       "      <td>NaN</td>\n",
       "    </tr>\n",
       "    <tr>\n",
       "      <th>4</th>\n",
       "      <td>unknown</td>\n",
       "      <td>NaN</td>\n",
       "    </tr>\n",
       "  </tbody>\n",
       "</table>\n",
       "</div>"
      ],
      "text/plain": [
       "  exercise  status.exercise_frequency\n",
       "0  unknown                        NaN\n",
       "1      0.0                        0.0\n",
       "2  unknown                        NaN\n",
       "3  unknown                        NaN\n",
       "4  unknown                        NaN"
      ]
     },
     "execution_count": 14,
     "metadata": {},
     "output_type": "execute_result"
    },
    {
     "name": "stdout",
     "output_type": "stream",
     "text": [
      "\n",
      "Missing Value Summary\n",
      "-----------------------------------\n",
      "exercise                        0\n",
      "status.exercise_frequency    1404\n",
      "dtype: int64\n"
     ]
    }
   ],
   "source": [
    "pt_profile['status.exercise_frequency'].unique()\n",
    "pt_profile['exercise']=pt_profile['status.exercise_frequency'].astype('string').fillna('unknown').apply(lambda x: x.strip().lower())\n",
    "pt_profile['exercise'].unique()\n",
    "pt_profile[['exercise', 'status.exercise_frequency']][:5]\n",
    "\n",
    "checking_missing(pt_profile[['exercise', 'status.exercise_frequency']], pt_profile[['exercise', 'status.exercise_frequency']].columns)"
   ]
  },
  {
   "cell_type": "code",
   "execution_count": 15,
   "metadata": {},
   "outputs": [
    {
     "data": {
      "text/plain": [
       "array([nan, 'normal', None, 'overweight', 'obese', 'underweight'],\n",
       "      dtype=object)"
      ]
     },
     "execution_count": 15,
     "metadata": {},
     "output_type": "execute_result"
    },
    {
     "data": {
      "text/plain": [
       "array(['unknown', 'normal', 'overweight', 'obese', 'underweight'],\n",
       "      dtype=object)"
      ]
     },
     "execution_count": 15,
     "metadata": {},
     "output_type": "execute_result"
    },
    {
     "data": {
      "text/html": [
       "<div>\n",
       "<style scoped>\n",
       "    .dataframe tbody tr th:only-of-type {\n",
       "        vertical-align: middle;\n",
       "    }\n",
       "\n",
       "    .dataframe tbody tr th {\n",
       "        vertical-align: top;\n",
       "    }\n",
       "\n",
       "    .dataframe thead th {\n",
       "        text-align: right;\n",
       "    }\n",
       "</style>\n",
       "<table border=\"1\" class=\"dataframe\">\n",
       "  <thead>\n",
       "    <tr style=\"text-align: right;\">\n",
       "      <th></th>\n",
       "      <th>bmi</th>\n",
       "      <th>status.bmi_level</th>\n",
       "    </tr>\n",
       "  </thead>\n",
       "  <tbody>\n",
       "    <tr>\n",
       "      <th>0</th>\n",
       "      <td>unknown</td>\n",
       "      <td>NaN</td>\n",
       "    </tr>\n",
       "    <tr>\n",
       "      <th>1</th>\n",
       "      <td>normal</td>\n",
       "      <td>normal</td>\n",
       "    </tr>\n",
       "    <tr>\n",
       "      <th>2</th>\n",
       "      <td>unknown</td>\n",
       "      <td>NaN</td>\n",
       "    </tr>\n",
       "    <tr>\n",
       "      <th>3</th>\n",
       "      <td>unknown</td>\n",
       "      <td>NaN</td>\n",
       "    </tr>\n",
       "    <tr>\n",
       "      <th>4</th>\n",
       "      <td>unknown</td>\n",
       "      <td>NaN</td>\n",
       "    </tr>\n",
       "  </tbody>\n",
       "</table>\n",
       "</div>"
      ],
      "text/plain": [
       "       bmi status.bmi_level\n",
       "0  unknown              NaN\n",
       "1   normal           normal\n",
       "2  unknown              NaN\n",
       "3  unknown              NaN\n",
       "4  unknown              NaN"
      ]
     },
     "execution_count": 15,
     "metadata": {},
     "output_type": "execute_result"
    },
    {
     "name": "stdout",
     "output_type": "stream",
     "text": [
      "\n",
      "Missing Value Summary\n",
      "-----------------------------------\n",
      "bmi                    0\n",
      "status.bmi_level    1506\n",
      "dtype: int64\n"
     ]
    }
   ],
   "source": [
    "pt_profile['status.bmi_level'].unique()\n",
    "pt_profile['bmi']=pt_profile['status.bmi_level'].astype('string').fillna('unknown').apply(lambda x: x.strip().lower())\n",
    "pt_profile['bmi'].unique()\n",
    "pt_profile[['bmi', 'status.bmi_level']][:5]\n",
    "\n",
    "checking_missing(pt_profile[['bmi', 'status.bmi_level']], pt_profile[['bmi', 'status.bmi_level']].columns)"
   ]
  },
  {
   "cell_type": "markdown",
   "metadata": {},
   "source": [
    "## 1.5. Creating a cleaned patient profile for feature selection\n",
    "* Selecting preprocessed columns\n",
    "* Dropping columns of corhort_id, cohort_qualifier with constant values"
   ]
  },
  {
   "cell_type": "code",
   "execution_count": 16,
   "metadata": {},
   "outputs": [
    {
     "data": {
      "text/plain": [
       "Index(['patient_id', 'biomarker_id', 'target_label', 'demographics.gender',\n",
       "       'demographics.age', 'status.disease_sub_type',\n",
       "       'status.comorbidity_index', 'status.cohort_qualifier',\n",
       "       'status.smoking_status', 'status.months_since_diagnosis',\n",
       "       'demographics.race', 'institution', 'cohort_id',\n",
       "       'status.days_since_diagnosis', 'status.alcohol_usage',\n",
       "       'status.exercise_frequency', 'status.bmi_level', 'gender', 'race',\n",
       "       'smoking', 'age', 'comorbidity', 'days_after_dx', 'alcohol', 'exercise',\n",
       "       'bmi'],\n",
       "      dtype='object')"
      ]
     },
     "execution_count": 16,
     "metadata": {},
     "output_type": "execute_result"
    }
   ],
   "source": [
    "pt_profile.columns"
   ]
  },
  {
   "cell_type": "code",
   "execution_count": 17,
   "metadata": {
    "tags": []
   },
   "outputs": [
    {
     "data": {
      "text/html": [
       "<div>\n",
       "<style scoped>\n",
       "    .dataframe tbody tr th:only-of-type {\n",
       "        vertical-align: middle;\n",
       "    }\n",
       "\n",
       "    .dataframe tbody tr th {\n",
       "        vertical-align: top;\n",
       "    }\n",
       "\n",
       "    .dataframe thead th {\n",
       "        text-align: right;\n",
       "    }\n",
       "</style>\n",
       "<table border=\"1\" class=\"dataframe\">\n",
       "  <thead>\n",
       "    <tr style=\"text-align: right;\">\n",
       "      <th></th>\n",
       "      <th>patient_id</th>\n",
       "      <th>biomarker_id</th>\n",
       "      <th>target_label</th>\n",
       "      <th>gender</th>\n",
       "      <th>age</th>\n",
       "      <th>race</th>\n",
       "      <th>disease_sub_type</th>\n",
       "      <th>comorbidity</th>\n",
       "      <th>smoking</th>\n",
       "      <th>days_after_dx</th>\n",
       "      <th>institution</th>\n",
       "      <th>alcohol</th>\n",
       "      <th>bmi</th>\n",
       "      <th>exercise</th>\n",
       "    </tr>\n",
       "  </thead>\n",
       "  <tbody>\n",
       "    <tr>\n",
       "      <th>0</th>\n",
       "      <td>1002df1d3</td>\n",
       "      <td>89c43bb4</td>\n",
       "      <td>0</td>\n",
       "      <td>male</td>\n",
       "      <td>46.0</td>\n",
       "      <td>asian</td>\n",
       "      <td>A</td>\n",
       "      <td>unknown</td>\n",
       "      <td>former</td>\n",
       "      <td>600.0</td>\n",
       "      <td>University Hospital System</td>\n",
       "      <td>unknown</td>\n",
       "      <td>unknown</td>\n",
       "      <td>unknown</td>\n",
       "    </tr>\n",
       "    <tr>\n",
       "      <th>1</th>\n",
       "      <td>1010441f</td>\n",
       "      <td>3ae31327</td>\n",
       "      <td>0</td>\n",
       "      <td>male</td>\n",
       "      <td>52.0</td>\n",
       "      <td>black or african american</td>\n",
       "      <td>A</td>\n",
       "      <td>unknown</td>\n",
       "      <td>never</td>\n",
       "      <td>0.0</td>\n",
       "      <td>Montague Hospital</td>\n",
       "      <td>low</td>\n",
       "      <td>normal</td>\n",
       "      <td>0.0</td>\n",
       "    </tr>\n",
       "    <tr>\n",
       "      <th>2</th>\n",
       "      <td>101eb6af1</td>\n",
       "      <td>1d8f7bab9</td>\n",
       "      <td>0</td>\n",
       "      <td>female</td>\n",
       "      <td>55.0</td>\n",
       "      <td>missing</td>\n",
       "      <td>B</td>\n",
       "      <td>unknown</td>\n",
       "      <td>never</td>\n",
       "      <td>0.0</td>\n",
       "      <td>BioLab, Inc.</td>\n",
       "      <td>unknown</td>\n",
       "      <td>unknown</td>\n",
       "      <td>unknown</td>\n",
       "    </tr>\n",
       "    <tr>\n",
       "      <th>3</th>\n",
       "      <td>10204394e</td>\n",
       "      <td>129ee8c6c</td>\n",
       "      <td>0</td>\n",
       "      <td>male</td>\n",
       "      <td>69.0</td>\n",
       "      <td>white</td>\n",
       "      <td>A</td>\n",
       "      <td>unknown</td>\n",
       "      <td>never</td>\n",
       "      <td>270.0</td>\n",
       "      <td>University Hospital System</td>\n",
       "      <td>unknown</td>\n",
       "      <td>unknown</td>\n",
       "      <td>unknown</td>\n",
       "    </tr>\n",
       "    <tr>\n",
       "      <th>4</th>\n",
       "      <td>1021d329b</td>\n",
       "      <td>1b44145bd</td>\n",
       "      <td>0</td>\n",
       "      <td>male</td>\n",
       "      <td>52.0</td>\n",
       "      <td>asian</td>\n",
       "      <td>A</td>\n",
       "      <td>unknown</td>\n",
       "      <td>former</td>\n",
       "      <td>300.0</td>\n",
       "      <td>University Hospital System</td>\n",
       "      <td>unknown</td>\n",
       "      <td>unknown</td>\n",
       "      <td>unknown</td>\n",
       "    </tr>\n",
       "  </tbody>\n",
       "</table>\n",
       "</div>"
      ],
      "text/plain": [
       "  patient_id biomarker_id  target_label  gender   age  \\\n",
       "0  1002df1d3     89c43bb4             0    male  46.0   \n",
       "1   1010441f     3ae31327             0    male  52.0   \n",
       "2  101eb6af1    1d8f7bab9             0  female  55.0   \n",
       "3  10204394e    129ee8c6c             0    male  69.0   \n",
       "4  1021d329b    1b44145bd             0    male  52.0   \n",
       "\n",
       "                        race disease_sub_type comorbidity smoking  \\\n",
       "0                      asian                A     unknown  former   \n",
       "1  black or african american                A     unknown   never   \n",
       "2                    missing                B     unknown   never   \n",
       "3                      white                A     unknown   never   \n",
       "4                      asian                A     unknown  former   \n",
       "\n",
       "   days_after_dx                 institution  alcohol      bmi exercise  \n",
       "0          600.0  University Hospital System  unknown  unknown  unknown  \n",
       "1            0.0           Montague Hospital      low   normal      0.0  \n",
       "2            0.0                BioLab, Inc.  unknown  unknown  unknown  \n",
       "3          270.0  University Hospital System  unknown  unknown  unknown  \n",
       "4          300.0  University Hospital System  unknown  unknown  unknown  "
      ]
     },
     "execution_count": 17,
     "metadata": {},
     "output_type": "execute_result"
    },
    {
     "data": {
      "text/plain": [
       "(1734, 14)"
      ]
     },
     "execution_count": 17,
     "metadata": {},
     "output_type": "execute_result"
    },
    {
     "data": {
      "text/plain": [
       "patient_id           object\n",
       "biomarker_id         object\n",
       "target_label          int64\n",
       "gender               object\n",
       "age                 float64\n",
       "race                 object\n",
       "disease_sub_type     object\n",
       "comorbidity          object\n",
       "smoking              object\n",
       "days_after_dx       float64\n",
       "institution          object\n",
       "alcohol              object\n",
       "bmi                  object\n",
       "exercise             object\n",
       "dtype: object"
      ]
     },
     "execution_count": 17,
     "metadata": {},
     "output_type": "execute_result"
    }
   ],
   "source": [
    "cols_cleaned = ['patient_id', 'biomarker_id', 'target_label', 'gender', 'age', 'race', 'status.disease_sub_type', 'comorbidity', 'smoking', 'days_after_dx', 'institution', 'alcohol', 'bmi', 'exercise']\n",
    "pt_profile_cleaned = pt_profile[cols_cleaned].rename(columns={\"status.disease_sub_type\": \"disease_sub_type\"})\n",
    "\n",
    "pt_profile_cleaned.head()\n",
    "pt_profile_cleaned.shape\n",
    "pt_profile_cleaned.dtypes"
   ]
  },
  {
   "cell_type": "raw",
   "metadata": {
    "jupyter": {
     "outputs_hidden": true
    },
    "tags": []
   },
   "source": [
    "pt_profile_cleaned_report = pandas_profiling.ProfileReport(pt_profile_cleaned)\n",
    "pt_profile_cleaned_report.to_file(\"pt_profile_cleaned.html\")"
   ]
  },
  {
   "cell_type": "markdown",
   "metadata": {},
   "source": [
    "## 1.6. Feature selection from patient profile\n",
    "### 1.6.1. Checking the completeness of data by institution"
   ]
  },
  {
   "cell_type": "code",
   "execution_count": 18,
   "metadata": {},
   "outputs": [
    {
     "data": {
      "text/plain": [
       "institution\n",
       "BioLab, Inc.                     696\n",
       "Goodfellow Research Institute    123\n",
       "Johnson & Bloom Hospitals         56\n",
       "Montague Hospital                330\n",
       "Saint Penelope Medical Center    231\n",
       "University Hospital System       298\n",
       "Name: patient_id, dtype: int64"
      ]
     },
     "execution_count": 18,
     "metadata": {},
     "output_type": "execute_result"
    },
    {
     "data": {
      "text/plain": [
       "institution\n",
       "BioLab, Inc.                                       [unknown]\n",
       "Goodfellow Research Institute                      [unknown]\n",
       "Johnson & Bloom Hospitals                          [unknown]\n",
       "Montague Hospital                [low, none, moderate, high]\n",
       "Saint Penelope Medical Center                      [unknown]\n",
       "University Hospital System                         [unknown]\n",
       "Name: alcohol, dtype: object"
      ]
     },
     "execution_count": 18,
     "metadata": {},
     "output_type": "execute_result"
    },
    {
     "data": {
      "text/plain": [
       "institution\n",
       "BioLab, Inc.                                                             [unknown]\n",
       "Goodfellow Research Institute                                            [unknown]\n",
       "Johnson & Bloom Hospitals                                                [unknown]\n",
       "Montague Hospital                [normal, unknown, overweight, obese, underweight]\n",
       "Saint Penelope Medical Center                                            [unknown]\n",
       "University Hospital System                                               [unknown]\n",
       "Name: bmi, dtype: object"
      ]
     },
     "execution_count": 18,
     "metadata": {},
     "output_type": "execute_result"
    },
    {
     "data": {
      "text/plain": [
       "institution\n",
       "BioLab, Inc.                           [unknown]\n",
       "Goodfellow Research Institute          [unknown]\n",
       "Johnson & Bloom Hospitals              [unknown]\n",
       "Montague Hospital                [0.0, 2.0, 1.0]\n",
       "Saint Penelope Medical Center          [unknown]\n",
       "University Hospital System             [unknown]\n",
       "Name: exercise, dtype: object"
      ]
     },
     "execution_count": 18,
     "metadata": {},
     "output_type": "execute_result"
    },
    {
     "data": {
      "text/plain": [
       "institution\n",
       "BioLab, Inc.                     [missing, black or african american, white, as...\n",
       "Goodfellow Research Institute                                            [missing]\n",
       "Johnson & Bloom Hospitals        [white, missing, black or african american, as...\n",
       "Montague Hospital                [black or african american, missing, white, as...\n",
       "Saint Penelope Medical Center    [white, missing, black or african american, as...\n",
       "University Hospital System       [asian, white, black or african american, miss...\n",
       "Name: race, dtype: object"
      ]
     },
     "execution_count": 18,
     "metadata": {},
     "output_type": "execute_result"
    },
    {
     "data": {
      "text/plain": [
       "institution\n",
       "BioLab, Inc.                     [never, current, former, unknown]\n",
       "Goodfellow Research Institute                            [unknown]\n",
       "Johnson & Bloom Hospitals        [never, current, former, unknown]\n",
       "Montague Hospital                [never, current, former, unknown]\n",
       "Saint Penelope Medical Center    [never, current, former, unknown]\n",
       "University Hospital System       [former, never, current, unknown]\n",
       "Name: smoking, dtype: object"
      ]
     },
     "execution_count": 18,
     "metadata": {},
     "output_type": "execute_result"
    }
   ],
   "source": [
    "pt_profile_cleaned.groupby('institution')['patient_id'].count()\n",
    "pt_profile_cleaned.groupby('institution')['alcohol'].unique()\n",
    "pt_profile_cleaned.groupby('institution')['bmi'].unique()\n",
    "pt_profile_cleaned.groupby('institution')['exercise'].unique()\n",
    "pt_profile_cleaned.groupby('institution')['race'].unique()\n",
    "pt_profile_cleaned.groupby('institution')['smoking'].unique()"
   ]
  },
  {
   "cell_type": "code",
   "execution_count": 19,
   "metadata": {},
   "outputs": [
    {
     "data": {
      "text/html": [
       "<div>\n",
       "<style scoped>\n",
       "    .dataframe tbody tr th:only-of-type {\n",
       "        vertical-align: middle;\n",
       "    }\n",
       "\n",
       "    .dataframe tbody tr th {\n",
       "        vertical-align: top;\n",
       "    }\n",
       "\n",
       "    .dataframe thead tr th {\n",
       "        text-align: left;\n",
       "    }\n",
       "\n",
       "    .dataframe thead tr:last-of-type th {\n",
       "        text-align: right;\n",
       "    }\n",
       "</style>\n",
       "<table border=\"1\" class=\"dataframe\">\n",
       "  <thead>\n",
       "    <tr>\n",
       "      <th></th>\n",
       "      <th colspan=\"2\" halign=\"left\">count</th>\n",
       "    </tr>\n",
       "    <tr>\n",
       "      <th>positive</th>\n",
       "      <th>False</th>\n",
       "      <th>True</th>\n",
       "    </tr>\n",
       "    <tr>\n",
       "      <th>institution</th>\n",
       "      <th></th>\n",
       "      <th></th>\n",
       "    </tr>\n",
       "  </thead>\n",
       "  <tbody>\n",
       "    <tr>\n",
       "      <th>BioLab, Inc.</th>\n",
       "      <td>541</td>\n",
       "      <td>155</td>\n",
       "    </tr>\n",
       "    <tr>\n",
       "      <th>Goodfellow Research Institute</th>\n",
       "      <td>89</td>\n",
       "      <td>34</td>\n",
       "    </tr>\n",
       "    <tr>\n",
       "      <th>Johnson &amp; Bloom Hospitals</th>\n",
       "      <td>46</td>\n",
       "      <td>10</td>\n",
       "    </tr>\n",
       "    <tr>\n",
       "      <th>Montague Hospital</th>\n",
       "      <td>252</td>\n",
       "      <td>78</td>\n",
       "    </tr>\n",
       "    <tr>\n",
       "      <th>Saint Penelope Medical Center</th>\n",
       "      <td>183</td>\n",
       "      <td>48</td>\n",
       "    </tr>\n",
       "    <tr>\n",
       "      <th>University Hospital System</th>\n",
       "      <td>242</td>\n",
       "      <td>56</td>\n",
       "    </tr>\n",
       "  </tbody>\n",
       "</table>\n",
       "</div>"
      ],
      "text/plain": [
       "                              count      \n",
       "positive                      False True \n",
       "institution                              \n",
       "BioLab, Inc.                    541   155\n",
       "Goodfellow Research Institute    89    34\n",
       "Johnson & Bloom Hospitals        46    10\n",
       "Montague Hospital               252    78\n",
       "Saint Penelope Medical Center   183    48\n",
       "University Hospital System      242    56"
      ]
     },
     "execution_count": 19,
     "metadata": {},
     "output_type": "execute_result"
    },
    {
     "data": {
      "text/plain": [
       "<matplotlib.legend.Legend at 0x7fe52daf4fd0>"
      ]
     },
     "execution_count": 19,
     "metadata": {},
     "output_type": "execute_result"
    },
    {
     "data": {
      "image/png": "[encoded data removed]",
      "text/plain": [
       "<Figure size 360x288 with 1 Axes>"
      ]
     },
     "metadata": {
      "needs_background": "light"
     },
     "output_type": "display_data"
    }
   ],
   "source": [
    "temp = pt_profile_cleaned.assign(positive = lambda x: x.target_label==1.0).groupby(['institution', 'positive']).agg(count=('patient_id','count')).unstack('positive')\n",
    "temp\n",
    "\n",
    "ax1 = temp.plot.barh(stacked=True, figsize=(5,4))\n",
    "ax1.legend([\"negative\", \"positive\"]);\n",
    "plt.show()"
   ]
  },
  {
   "cell_type": "markdown",
   "metadata": {},
   "source": [
    "### *alcohol, bmi, exercise* are only present in one *institution* which accounts for ~20% of the cohort. We consolidate them into one to improve model performance"
   ]
  },
  {
   "cell_type": "markdown",
   "metadata": {},
   "source": [
    "### 1.6.2. Selecting features from categorical variables by Chi-Square statistic test"
   ]
  },
  {
   "cell_type": "code",
   "execution_count": 20,
   "metadata": {},
   "outputs": [
    {
     "name": "stdout",
     "output_type": "stream",
     "text": [
      "target_label    0    1\n",
      "gender                \n",
      "female        575  207\n",
      "male          778  174\n",
      "Chi2 Statistic for column \"gender\": 16.33618269969941, p-value: 5.304147212654462e-05\n",
      "------------------------------------------------------------\n",
      "target_label                                 0    1\n",
      "race                                               \n",
      "american indian or alaska native             9    2\n",
      "asian                                      130   34\n",
      "black or african american                  255   67\n",
      "missing                                    353  105\n",
      "native hawaiian or other pacific islander   13    5\n",
      "white                                      593  168\n",
      "Chi2 Statistic for column \"race\": 1.0957520591503263, p-value: 0.9544789913668957\n",
      "------------------------------------------------------------\n",
      "target_label        0    1\n",
      "disease_sub_type          \n",
      "A                 900  256\n",
      "B                 203   54\n",
      "C                 131   32\n",
      "D                  37   14\n",
      "E                  40   10\n",
      "F                  42   15\n",
      "Chi2 Statistic for column \"disease_sub_type\": 2.3128503871137074, p-value: 0.8043776633483084\n",
      "------------------------------------------------------------\n",
      "target_label     0    1\n",
      "comorbidity            \n",
      "0.0            132   41\n",
      "1.0             80   27\n",
      "2.0             61   12\n",
      "unknown       1080  301\n",
      "Chi2 Statistic for column \"comorbidity\": 2.293888051917485, p-value: 0.5136928051045706\n",
      "------------------------------------------------------------\n",
      "target_label    0    1\n",
      "smoking               \n",
      "current       306  125\n",
      "former        256   69\n",
      "never         636  133\n",
      "unknown       155   54\n",
      "Chi2 Statistic for column \"smoking\": 24.16141788330963, p-value: 2.3114694793089042e-05\n",
      "------------------------------------------------------------\n",
      "target_label                     0    1\n",
      "institution                            \n",
      "BioLab, Inc.                   541  155\n",
      "Goodfellow Research Institute   89   34\n",
      "Johnson & Bloom Hospitals       46   10\n",
      "Montague Hospital              252   78\n",
      "Saint Penelope Medical Center  183   48\n",
      "University Hospital System     242   56\n",
      "Chi2 Statistic for column \"institution\": 5.378480602346713, p-value: 0.37145495698508885\n",
      "------------------------------------------------------------\n",
      "target_label     0    1\n",
      "bmi                    \n",
      "normal         106   30\n",
      "obese           11    2\n",
      "overweight      47   13\n",
      "underweight     12    7\n",
      "unknown       1177  329\n",
      "Chi2 Statistic for column \"bmi\": 2.7973680373722125, p-value: 0.592287122610521\n",
      "------------------------------------------------------------\n",
      "target_label     0    1\n",
      "alcohol                \n",
      "high            18    5\n",
      "low             93   24\n",
      "moderate        99   38\n",
      "none            42   11\n",
      "unknown       1101  303\n",
      "Chi2 Statistic for column \"alcohol\": 2.9729146165632985, p-value: 0.5623682589425507\n",
      "------------------------------------------------------------\n",
      "target_label     0    1\n",
      "exercise               \n",
      "0.0            188   70\n",
      "1.0             48    5\n",
      "2.0             16    3\n",
      "unknown       1101  303\n",
      "Chi2 Statistic for column \"exercise\": 9.414821307839125, p-value: 0.02425499896030731\n",
      "------------------------------------------------------------\n"
     ]
    },
    {
     "data": {
      "text/html": [
       "<div>\n",
       "<style scoped>\n",
       "    .dataframe tbody tr th:only-of-type {\n",
       "        vertical-align: middle;\n",
       "    }\n",
       "\n",
       "    .dataframe tbody tr th {\n",
       "        vertical-align: top;\n",
       "    }\n",
       "\n",
       "    .dataframe thead th {\n",
       "        text-align: right;\n",
       "    }\n",
       "</style>\n",
       "<table border=\"1\" class=\"dataframe\">\n",
       "  <thead>\n",
       "    <tr style=\"text-align: right;\">\n",
       "      <th></th>\n",
       "      <th>Column</th>\n",
       "      <th>Hypothesis</th>\n",
       "    </tr>\n",
       "  </thead>\n",
       "  <tbody>\n",
       "    <tr>\n",
       "      <th>0</th>\n",
       "      <td>gender</td>\n",
       "      <td>Reject Null Hypothesis</td>\n",
       "    </tr>\n",
       "    <tr>\n",
       "      <th>1</th>\n",
       "      <td>race</td>\n",
       "      <td>Fail to Reject Null Hypothesis</td>\n",
       "    </tr>\n",
       "    <tr>\n",
       "      <th>2</th>\n",
       "      <td>disease_sub_type</td>\n",
       "      <td>Fail to Reject Null Hypothesis</td>\n",
       "    </tr>\n",
       "    <tr>\n",
       "      <th>3</th>\n",
       "      <td>comorbidity</td>\n",
       "      <td>Fail to Reject Null Hypothesis</td>\n",
       "    </tr>\n",
       "    <tr>\n",
       "      <th>4</th>\n",
       "      <td>smoking</td>\n",
       "      <td>Reject Null Hypothesis</td>\n",
       "    </tr>\n",
       "    <tr>\n",
       "      <th>5</th>\n",
       "      <td>institution</td>\n",
       "      <td>Fail to Reject Null Hypothesis</td>\n",
       "    </tr>\n",
       "    <tr>\n",
       "      <th>6</th>\n",
       "      <td>bmi</td>\n",
       "      <td>Fail to Reject Null Hypothesis</td>\n",
       "    </tr>\n",
       "    <tr>\n",
       "      <th>7</th>\n",
       "      <td>alcohol</td>\n",
       "      <td>Fail to Reject Null Hypothesis</td>\n",
       "    </tr>\n",
       "    <tr>\n",
       "      <th>8</th>\n",
       "      <td>exercise</td>\n",
       "      <td>Reject Null Hypothesis</td>\n",
       "    </tr>\n",
       "  </tbody>\n",
       "</table>\n",
       "</div>"
      ],
      "text/plain": [
       "             Column                      Hypothesis\n",
       "0            gender          Reject Null Hypothesis\n",
       "1              race  Fail to Reject Null Hypothesis\n",
       "2  disease_sub_type  Fail to Reject Null Hypothesis\n",
       "3       comorbidity  Fail to Reject Null Hypothesis\n",
       "4           smoking          Reject Null Hypothesis\n",
       "5       institution  Fail to Reject Null Hypothesis\n",
       "6               bmi  Fail to Reject Null Hypothesis\n",
       "7           alcohol  Fail to Reject Null Hypothesis\n",
       "8          exercise          Reject Null Hypothesis"
      ]
     },
     "execution_count": 20,
     "metadata": {},
     "output_type": "execute_result"
    }
   ],
   "source": [
    "categorical_cols = ['gender', 'race', 'disease_sub_type', 'comorbidity', 'smoking', 'institution', 'bmi', 'alcohol', 'exercise']\n",
    "target_col = 'target_label'\n",
    "\n",
    "chi2_check(pt_profile_cleaned, categorical_cols, 'target_label')"
   ]
  },
  {
   "cell_type": "markdown",
   "metadata": {},
   "source": [
    "#### Rejecting Null hypothesis for *gender, exercise, smoking* which are selected as features for modeling"
   ]
  },
  {
   "cell_type": "markdown",
   "metadata": {},
   "source": [
    "### 1.6.3. Selecting features from continuous variables with visual analysis"
   ]
  },
  {
   "cell_type": "code",
   "execution_count": 21,
   "metadata": {},
   "outputs": [
    {
     "data": {
      "text/plain": [
       "<AxesSubplot:xlabel='target_label', ylabel='age'>"
      ]
     },
     "execution_count": 21,
     "metadata": {},
     "output_type": "execute_result"
    },
    {
     "data": {
      "image/png": "[encoded data removed]",
      "text/plain": [
       "<Figure size 432x288 with 1 Axes>"
      ]
     },
     "metadata": {
      "needs_background": "light"
     },
     "output_type": "display_data"
    }
   ],
   "source": [
    "f, ax = plt.subplots()\n",
    "sns.violinplot(data=pt_profile_cleaned, x='target_label', y='age', hue = 'target_label', palette=\"muted\", split=True)"
   ]
  },
  {
   "cell_type": "code",
   "execution_count": 22,
   "metadata": {},
   "outputs": [
    {
     "data": {
      "text/plain": [
       "<AxesSubplot:xlabel='target_label', ylabel='days_after_dx'>"
      ]
     },
     "execution_count": 22,
     "metadata": {},
     "output_type": "execute_result"
    },
    {
     "data": {
      "image/png": "[encoded data removed]",
      "text/plain": [
       "<Figure size 432x288 with 1 Axes>"
      ]
     },
     "metadata": {
      "needs_background": "light"
     },
     "output_type": "display_data"
    }
   ],
   "source": [
    "f, ax = plt.subplots()\n",
    "sns.violinplot(data=pt_profile_cleaned, x='target_label', y='days_after_dx',hue = 'target_label', palette=\"muted\", split=True )"
   ]
  },
  {
   "cell_type": "markdown",
   "metadata": {},
   "source": [
    "### Figures show different distribution of *days_after_dx* and *age* at *target_label 0, 1*, So they are selected for modeling"
   ]
  },
  {
   "cell_type": "markdown",
   "metadata": {},
   "source": [
    "### 1.6.4. Creating feature matrix from patient profile"
   ]
  },
  {
   "cell_type": "code",
   "execution_count": 23,
   "metadata": {},
   "outputs": [
    {
     "data": {
      "text/plain": [
       "(1734, 5)"
      ]
     },
     "execution_count": 23,
     "metadata": {},
     "output_type": "execute_result"
    },
    {
     "data": {
      "text/html": [
       "<div>\n",
       "<style scoped>\n",
       "    .dataframe tbody tr th:only-of-type {\n",
       "        vertical-align: middle;\n",
       "    }\n",
       "\n",
       "    .dataframe tbody tr th {\n",
       "        vertical-align: top;\n",
       "    }\n",
       "\n",
       "    .dataframe thead th {\n",
       "        text-align: right;\n",
       "    }\n",
       "</style>\n",
       "<table border=\"1\" class=\"dataframe\">\n",
       "  <thead>\n",
       "    <tr style=\"text-align: right;\">\n",
       "      <th></th>\n",
       "      <th>age</th>\n",
       "      <th>days_after_dx</th>\n",
       "      <th>gender</th>\n",
       "      <th>smoking</th>\n",
       "      <th>exercise</th>\n",
       "    </tr>\n",
       "    <tr>\n",
       "      <th>patient_id</th>\n",
       "      <th></th>\n",
       "      <th></th>\n",
       "      <th></th>\n",
       "      <th></th>\n",
       "      <th></th>\n",
       "    </tr>\n",
       "  </thead>\n",
       "  <tbody>\n",
       "    <tr>\n",
       "      <th>1002df1d3</th>\n",
       "      <td>46.0</td>\n",
       "      <td>600.0</td>\n",
       "      <td>male</td>\n",
       "      <td>former</td>\n",
       "      <td>unknown</td>\n",
       "    </tr>\n",
       "    <tr>\n",
       "      <th>1010441f</th>\n",
       "      <td>52.0</td>\n",
       "      <td>0.0</td>\n",
       "      <td>male</td>\n",
       "      <td>never</td>\n",
       "      <td>0.0</td>\n",
       "    </tr>\n",
       "    <tr>\n",
       "      <th>101eb6af1</th>\n",
       "      <td>55.0</td>\n",
       "      <td>0.0</td>\n",
       "      <td>female</td>\n",
       "      <td>never</td>\n",
       "      <td>unknown</td>\n",
       "    </tr>\n",
       "    <tr>\n",
       "      <th>10204394e</th>\n",
       "      <td>69.0</td>\n",
       "      <td>270.0</td>\n",
       "      <td>male</td>\n",
       "      <td>never</td>\n",
       "      <td>unknown</td>\n",
       "    </tr>\n",
       "    <tr>\n",
       "      <th>1021d329b</th>\n",
       "      <td>52.0</td>\n",
       "      <td>300.0</td>\n",
       "      <td>male</td>\n",
       "      <td>former</td>\n",
       "      <td>unknown</td>\n",
       "    </tr>\n",
       "  </tbody>\n",
       "</table>\n",
       "</div>"
      ],
      "text/plain": [
       "             age  days_after_dx  gender smoking exercise\n",
       "patient_id                                              \n",
       "1002df1d3   46.0          600.0    male  former  unknown\n",
       "1010441f    52.0            0.0    male   never      0.0\n",
       "101eb6af1   55.0            0.0  female   never  unknown\n",
       "10204394e   69.0          270.0    male   never  unknown\n",
       "1021d329b   52.0          300.0    male  former  unknown"
      ]
     },
     "execution_count": 23,
     "metadata": {},
     "output_type": "execute_result"
    }
   ],
   "source": [
    "cols = ['age', 'days_after_dx', 'gender', 'smoking', 'exercise', 'patient_id']\n",
    "pt_profile_feature = pt_profile_cleaned[cols].set_index('patient_id')\n",
    "\n",
    "pt_profile_feature.shape\n",
    "pt_profile_feature.head()"
   ]
  },
  {
   "cell_type": "markdown",
   "metadata": {},
   "source": [
    "## 1.7. Biomarkers Table \n",
    "\n",
    "### 1.7.1. Right joining biomarkers table with target table to produce biomarker dataset"
   ]
  },
  {
   "cell_type": "code",
   "execution_count": 24,
   "metadata": {},
   "outputs": [
    {
     "data": {
      "text/html": [
       "<div>\n",
       "<style scoped>\n",
       "    .dataframe tbody tr th:only-of-type {\n",
       "        vertical-align: middle;\n",
       "    }\n",
       "\n",
       "    .dataframe tbody tr th {\n",
       "        vertical-align: top;\n",
       "    }\n",
       "\n",
       "    .dataframe thead th {\n",
       "        text-align: right;\n",
       "    }\n",
       "</style>\n",
       "<table border=\"1\" class=\"dataframe\">\n",
       "  <thead>\n",
       "    <tr style=\"text-align: right;\">\n",
       "      <th></th>\n",
       "      <th>biomarker_id</th>\n",
       "      <th>BM00000</th>\n",
       "      <th>BM00001</th>\n",
       "      <th>BM00002</th>\n",
       "      <th>BM00003</th>\n",
       "      <th>BM00004</th>\n",
       "      <th>BM00005</th>\n",
       "      <th>BM00006</th>\n",
       "      <th>BM00007</th>\n",
       "      <th>BM00008</th>\n",
       "      <th>...</th>\n",
       "      <th>BM15148</th>\n",
       "      <th>BM15149</th>\n",
       "      <th>BM15150</th>\n",
       "      <th>BM15151</th>\n",
       "      <th>BM15152</th>\n",
       "      <th>BM15153</th>\n",
       "      <th>BM15154</th>\n",
       "      <th>BM15155</th>\n",
       "      <th>BM15156</th>\n",
       "      <th>target_label</th>\n",
       "    </tr>\n",
       "  </thead>\n",
       "  <tbody>\n",
       "    <tr>\n",
       "      <th>0</th>\n",
       "      <td>89c43bb4</td>\n",
       "      <td>1</td>\n",
       "      <td>1</td>\n",
       "      <td>1</td>\n",
       "      <td>1</td>\n",
       "      <td>0</td>\n",
       "      <td>0</td>\n",
       "      <td>0</td>\n",
       "      <td>0</td>\n",
       "      <td>1</td>\n",
       "      <td>...</td>\n",
       "      <td>0</td>\n",
       "      <td>0</td>\n",
       "      <td>1</td>\n",
       "      <td>1</td>\n",
       "      <td>0</td>\n",
       "      <td>1</td>\n",
       "      <td>1.0</td>\n",
       "      <td>1</td>\n",
       "      <td>1</td>\n",
       "      <td>0</td>\n",
       "    </tr>\n",
       "    <tr>\n",
       "      <th>1</th>\n",
       "      <td>3ae31327</td>\n",
       "      <td>0</td>\n",
       "      <td>1</td>\n",
       "      <td>1</td>\n",
       "      <td>0</td>\n",
       "      <td>0</td>\n",
       "      <td>0</td>\n",
       "      <td>0</td>\n",
       "      <td>0</td>\n",
       "      <td>1</td>\n",
       "      <td>...</td>\n",
       "      <td>0</td>\n",
       "      <td>0</td>\n",
       "      <td>0</td>\n",
       "      <td>1</td>\n",
       "      <td>0</td>\n",
       "      <td>1</td>\n",
       "      <td>1.0</td>\n",
       "      <td>1</td>\n",
       "      <td>1</td>\n",
       "      <td>0</td>\n",
       "    </tr>\n",
       "    <tr>\n",
       "      <th>2</th>\n",
       "      <td>1d8f7bab9</td>\n",
       "      <td>1</td>\n",
       "      <td>1</td>\n",
       "      <td>1</td>\n",
       "      <td>1</td>\n",
       "      <td>0</td>\n",
       "      <td>0</td>\n",
       "      <td>0</td>\n",
       "      <td>0</td>\n",
       "      <td>1</td>\n",
       "      <td>...</td>\n",
       "      <td>0</td>\n",
       "      <td>1</td>\n",
       "      <td>0</td>\n",
       "      <td>0</td>\n",
       "      <td>0</td>\n",
       "      <td>1</td>\n",
       "      <td>NaN</td>\n",
       "      <td>1</td>\n",
       "      <td>1</td>\n",
       "      <td>0</td>\n",
       "    </tr>\n",
       "    <tr>\n",
       "      <th>3</th>\n",
       "      <td>129ee8c6c</td>\n",
       "      <td>1</td>\n",
       "      <td>1</td>\n",
       "      <td>1</td>\n",
       "      <td>1</td>\n",
       "      <td>0</td>\n",
       "      <td>0</td>\n",
       "      <td>0</td>\n",
       "      <td>0</td>\n",
       "      <td>1</td>\n",
       "      <td>...</td>\n",
       "      <td>0</td>\n",
       "      <td>1</td>\n",
       "      <td>0</td>\n",
       "      <td>0</td>\n",
       "      <td>1</td>\n",
       "      <td>1</td>\n",
       "      <td>1.0</td>\n",
       "      <td>1</td>\n",
       "      <td>1</td>\n",
       "      <td>0</td>\n",
       "    </tr>\n",
       "    <tr>\n",
       "      <th>4</th>\n",
       "      <td>1b44145bd</td>\n",
       "      <td>1</td>\n",
       "      <td>1</td>\n",
       "      <td>1</td>\n",
       "      <td>1</td>\n",
       "      <td>0</td>\n",
       "      <td>0</td>\n",
       "      <td>0</td>\n",
       "      <td>0</td>\n",
       "      <td>1</td>\n",
       "      <td>...</td>\n",
       "      <td>0</td>\n",
       "      <td>0</td>\n",
       "      <td>0</td>\n",
       "      <td>0</td>\n",
       "      <td>1</td>\n",
       "      <td>1</td>\n",
       "      <td>1.0</td>\n",
       "      <td>1</td>\n",
       "      <td>1</td>\n",
       "      <td>0</td>\n",
       "    </tr>\n",
       "  </tbody>\n",
       "</table>\n",
       "<p>5 rows × 15159 columns</p>\n",
       "</div>"
      ],
      "text/plain": [
       "  biomarker_id  BM00000  BM00001  BM00002  BM00003  BM00004  BM00005  BM00006  \\\n",
       "0     89c43bb4        1        1        1        1        0        0        0   \n",
       "1     3ae31327        0        1        1        0        0        0        0   \n",
       "2    1d8f7bab9        1        1        1        1        0        0        0   \n",
       "3    129ee8c6c        1        1        1        1        0        0        0   \n",
       "4    1b44145bd        1        1        1        1        0        0        0   \n",
       "\n",
       "   BM00007  BM00008  ...  BM15148  BM15149  BM15150  BM15151  BM15152  \\\n",
       "0        0        1  ...        0        0        1        1        0   \n",
       "1        0        1  ...        0        0        0        1        0   \n",
       "2        0        1  ...        0        1        0        0        0   \n",
       "3        0        1  ...        0        1        0        0        1   \n",
       "4        0        1  ...        0        0        0        0        1   \n",
       "\n",
       "   BM15153  BM15154  BM15155  BM15156  target_label  \n",
       "0        1      1.0        1        1             0  \n",
       "1        1      1.0        1        1             0  \n",
       "2        1      NaN        1        1             0  \n",
       "3        1      1.0        1        1             0  \n",
       "4        1      1.0        1        1             0  \n",
       "\n",
       "[5 rows x 15159 columns]"
      ]
     },
     "execution_count": 24,
     "metadata": {},
     "output_type": "execute_result"
    },
    {
     "data": {
      "text/plain": [
       "(1734, 15159)"
      ]
     },
     "execution_count": 24,
     "metadata": {},
     "output_type": "execute_result"
    }
   ],
   "source": [
    "marker= pd.read_csv('./data/biomarkers.csv').merge(target, how = 'right', on = 'biomarker_id' ).drop('patient_id', axis =1)\n",
    "marker.head()\n",
    "marker.shape"
   ]
  },
  {
   "cell_type": "code",
   "execution_count": 25,
   "metadata": {},
   "outputs": [
    {
     "data": {
      "text/plain": [
       "biomarker_id     object\n",
       "BM00000           int64\n",
       "BM00001           int64\n",
       "BM00002           int64\n",
       "BM00003           int64\n",
       "                 ...   \n",
       "BM15153           int64\n",
       "BM15154         float64\n",
       "BM15155           int64\n",
       "BM15156           int64\n",
       "target_label      int64\n",
       "Length: 15159, dtype: object"
      ]
     },
     "execution_count": 25,
     "metadata": {},
     "output_type": "execute_result"
    }
   ],
   "source": [
    "marker.dtypes"
   ]
  },
  {
   "cell_type": "markdown",
   "metadata": {},
   "source": [
    "### 1.7.2. Imputation of missing values with median"
   ]
  },
  {
   "cell_type": "code",
   "execution_count": 26,
   "metadata": {},
   "outputs": [],
   "source": [
    "missing_col = marker.columns[marker.isnull().any()]"
   ]
  },
  {
   "cell_type": "code",
   "execution_count": 27,
   "metadata": {
    "tags": []
   },
   "outputs": [
    {
     "name": "stdout",
     "output_type": "stream",
     "text": [
      "\n",
      "Missing Value Summary\n",
      "-----------------------------------\n",
      "BM01069    696\n",
      "BM01254    696\n",
      "BM01671    696\n",
      "BM02181    696\n",
      "BM02498    696\n",
      "BM03527    696\n",
      "BM05569    696\n",
      "BM05796    696\n",
      "BM05946    696\n",
      "BM05948    696\n",
      "BM05998    696\n",
      "BM06148    696\n",
      "BM06675    696\n",
      "BM06893    696\n",
      "BM07163    696\n",
      "BM07181    696\n",
      "BM08310    696\n",
      "BM08420    696\n",
      "BM08498    696\n",
      "BM08803    696\n",
      "BM08828    696\n",
      "BM09067    696\n",
      "BM09176    696\n",
      "BM09302    696\n",
      "BM09912    696\n",
      "BM09932    696\n",
      "BM10396    696\n",
      "BM11007    696\n",
      "BM11523    696\n",
      "BM11929    696\n",
      "BM12011    696\n",
      "BM12018    696\n",
      "BM12119    696\n",
      "BM12159    696\n",
      "BM12352    696\n",
      "BM12379    696\n",
      "BM12596    696\n",
      "BM12793    696\n",
      "BM13623    696\n",
      "BM13691    696\n",
      "BM13725    696\n",
      "BM14027    696\n",
      "BM14430    696\n",
      "BM14622    696\n",
      "BM15091    696\n",
      "BM15154    696\n",
      "dtype: int64\n"
     ]
    },
    {
     "data": {
      "text/plain": [
       "(1734, 15159)"
      ]
     },
     "execution_count": 27,
     "metadata": {},
     "output_type": "execute_result"
    },
    {
     "data": {
      "text/html": [
       "<div>\n",
       "<style scoped>\n",
       "    .dataframe tbody tr th:only-of-type {\n",
       "        vertical-align: middle;\n",
       "    }\n",
       "\n",
       "    .dataframe tbody tr th {\n",
       "        vertical-align: top;\n",
       "    }\n",
       "\n",
       "    .dataframe thead th {\n",
       "        text-align: right;\n",
       "    }\n",
       "</style>\n",
       "<table border=\"1\" class=\"dataframe\">\n",
       "  <thead>\n",
       "    <tr style=\"text-align: right;\">\n",
       "      <th></th>\n",
       "      <th>biomarker_id</th>\n",
       "      <th>BM00000</th>\n",
       "      <th>BM00001</th>\n",
       "      <th>BM00002</th>\n",
       "      <th>BM00003</th>\n",
       "      <th>BM00004</th>\n",
       "      <th>BM00005</th>\n",
       "      <th>BM00006</th>\n",
       "      <th>BM00007</th>\n",
       "      <th>BM00008</th>\n",
       "      <th>...</th>\n",
       "      <th>BM15148</th>\n",
       "      <th>BM15149</th>\n",
       "      <th>BM15150</th>\n",
       "      <th>BM15151</th>\n",
       "      <th>BM15152</th>\n",
       "      <th>BM15153</th>\n",
       "      <th>BM15154</th>\n",
       "      <th>BM15155</th>\n",
       "      <th>BM15156</th>\n",
       "      <th>target_label</th>\n",
       "    </tr>\n",
       "  </thead>\n",
       "  <tbody>\n",
       "    <tr>\n",
       "      <th>0</th>\n",
       "      <td>89c43bb4</td>\n",
       "      <td>1</td>\n",
       "      <td>1</td>\n",
       "      <td>1</td>\n",
       "      <td>1</td>\n",
       "      <td>0</td>\n",
       "      <td>0</td>\n",
       "      <td>0</td>\n",
       "      <td>0</td>\n",
       "      <td>1</td>\n",
       "      <td>...</td>\n",
       "      <td>0</td>\n",
       "      <td>0</td>\n",
       "      <td>1</td>\n",
       "      <td>1</td>\n",
       "      <td>0</td>\n",
       "      <td>1</td>\n",
       "      <td>1.0</td>\n",
       "      <td>1</td>\n",
       "      <td>1</td>\n",
       "      <td>0</td>\n",
       "    </tr>\n",
       "    <tr>\n",
       "      <th>1</th>\n",
       "      <td>3ae31327</td>\n",
       "      <td>0</td>\n",
       "      <td>1</td>\n",
       "      <td>1</td>\n",
       "      <td>0</td>\n",
       "      <td>0</td>\n",
       "      <td>0</td>\n",
       "      <td>0</td>\n",
       "      <td>0</td>\n",
       "      <td>1</td>\n",
       "      <td>...</td>\n",
       "      <td>0</td>\n",
       "      <td>0</td>\n",
       "      <td>0</td>\n",
       "      <td>1</td>\n",
       "      <td>0</td>\n",
       "      <td>1</td>\n",
       "      <td>1.0</td>\n",
       "      <td>1</td>\n",
       "      <td>1</td>\n",
       "      <td>0</td>\n",
       "    </tr>\n",
       "    <tr>\n",
       "      <th>2</th>\n",
       "      <td>1d8f7bab9</td>\n",
       "      <td>1</td>\n",
       "      <td>1</td>\n",
       "      <td>1</td>\n",
       "      <td>1</td>\n",
       "      <td>0</td>\n",
       "      <td>0</td>\n",
       "      <td>0</td>\n",
       "      <td>0</td>\n",
       "      <td>1</td>\n",
       "      <td>...</td>\n",
       "      <td>0</td>\n",
       "      <td>1</td>\n",
       "      <td>0</td>\n",
       "      <td>0</td>\n",
       "      <td>0</td>\n",
       "      <td>1</td>\n",
       "      <td>1.0</td>\n",
       "      <td>1</td>\n",
       "      <td>1</td>\n",
       "      <td>0</td>\n",
       "    </tr>\n",
       "    <tr>\n",
       "      <th>3</th>\n",
       "      <td>129ee8c6c</td>\n",
       "      <td>1</td>\n",
       "      <td>1</td>\n",
       "      <td>1</td>\n",
       "      <td>1</td>\n",
       "      <td>0</td>\n",
       "      <td>0</td>\n",
       "      <td>0</td>\n",
       "      <td>0</td>\n",
       "      <td>1</td>\n",
       "      <td>...</td>\n",
       "      <td>0</td>\n",
       "      <td>1</td>\n",
       "      <td>0</td>\n",
       "      <td>0</td>\n",
       "      <td>1</td>\n",
       "      <td>1</td>\n",
       "      <td>1.0</td>\n",
       "      <td>1</td>\n",
       "      <td>1</td>\n",
       "      <td>0</td>\n",
       "    </tr>\n",
       "    <tr>\n",
       "      <th>4</th>\n",
       "      <td>1b44145bd</td>\n",
       "      <td>1</td>\n",
       "      <td>1</td>\n",
       "      <td>1</td>\n",
       "      <td>1</td>\n",
       "      <td>0</td>\n",
       "      <td>0</td>\n",
       "      <td>0</td>\n",
       "      <td>0</td>\n",
       "      <td>1</td>\n",
       "      <td>...</td>\n",
       "      <td>0</td>\n",
       "      <td>0</td>\n",
       "      <td>0</td>\n",
       "      <td>0</td>\n",
       "      <td>1</td>\n",
       "      <td>1</td>\n",
       "      <td>1.0</td>\n",
       "      <td>1</td>\n",
       "      <td>1</td>\n",
       "      <td>0</td>\n",
       "    </tr>\n",
       "  </tbody>\n",
       "</table>\n",
       "<p>5 rows × 15159 columns</p>\n",
       "</div>"
      ],
      "text/plain": [
       "  biomarker_id  BM00000  BM00001  BM00002  BM00003  BM00004  BM00005  BM00006  \\\n",
       "0     89c43bb4        1        1        1        1        0        0        0   \n",
       "1     3ae31327        0        1        1        0        0        0        0   \n",
       "2    1d8f7bab9        1        1        1        1        0        0        0   \n",
       "3    129ee8c6c        1        1        1        1        0        0        0   \n",
       "4    1b44145bd        1        1        1        1        0        0        0   \n",
       "\n",
       "   BM00007  BM00008  ...  BM15148  BM15149  BM15150  BM15151  BM15152  \\\n",
       "0        0        1  ...        0        0        1        1        0   \n",
       "1        0        1  ...        0        0        0        1        0   \n",
       "2        0        1  ...        0        1        0        0        0   \n",
       "3        0        1  ...        0        1        0        0        1   \n",
       "4        0        1  ...        0        0        0        0        1   \n",
       "\n",
       "   BM15153  BM15154  BM15155  BM15156  target_label  \n",
       "0        1      1.0        1        1             0  \n",
       "1        1      1.0        1        1             0  \n",
       "2        1      1.0        1        1             0  \n",
       "3        1      1.0        1        1             0  \n",
       "4        1      1.0        1        1             0  \n",
       "\n",
       "[5 rows x 15159 columns]"
      ]
     },
     "execution_count": 27,
     "metadata": {},
     "output_type": "execute_result"
    },
    {
     "data": {
      "image/png": "[encoded data removed]",
      "text/plain": [
       "<Figure size 1800x720 with 2 Axes>"
      ]
     },
     "metadata": {
      "needs_background": "light"
     },
     "output_type": "display_data"
    }
   ],
   "source": [
    "df_missing_cols = marker.loc[:, missing_col]\n",
    "#df_missing_cols.dtypes\n",
    "#checking_missing(df_missing_cols, df_missing_cols.columns)\n",
    "#mbar=msno.matrix(marker[missing_col])\n",
    "\n",
    "marker_cleaned = marker.copy()\n",
    "\n",
    "for c in missing_col: \n",
    "    m = marker[c].median()\n",
    "    #m=marker[c].mean()+3*marker[c].std()\n",
    "    marker[c] = marker[c].fillna(m)\n",
    "    \n",
    "#marker.fillna(0, inplace = True)\n",
    "#marker_cleaned = marker.set_index('biomarker_id')\n",
    "marker.shape\n",
    "marker.head()\n",
    "\n",
    "#checking_missing(marker_cleaned[missing_col], marker_cleaned[missing_col].columns)\n",
    "#mbar=msno.matrix(marker_cleaned[missing_col])"
   ]
  },
  {
   "cell_type": "markdown",
   "metadata": {},
   "source": [
    "### 1.7.3. Selecting biomarker features with Chi-Square Test"
   ]
  },
  {
   "cell_type": "code",
   "execution_count": 28,
   "metadata": {},
   "outputs": [
    {
     "name": "stdout",
     "output_type": "stream",
     "text": [
      "CPU times: user 10min 16s, sys: 7.56 s, total: 10min 23s\n",
      "Wall time: 10min 52s\n"
     ]
    },
    {
     "data": {
      "text/html": [
       "<div>\n",
       "<style scoped>\n",
       "    .dataframe tbody tr th:only-of-type {\n",
       "        vertical-align: middle;\n",
       "    }\n",
       "\n",
       "    .dataframe tbody tr th {\n",
       "        vertical-align: top;\n",
       "    }\n",
       "\n",
       "    .dataframe thead th {\n",
       "        text-align: right;\n",
       "    }\n",
       "</style>\n",
       "<table border=\"1\" class=\"dataframe\">\n",
       "  <thead>\n",
       "    <tr style=\"text-align: right;\">\n",
       "      <th></th>\n",
       "      <th>bm_passed</th>\n",
       "      <th>p_value</th>\n",
       "    </tr>\n",
       "  </thead>\n",
       "  <tbody>\n",
       "    <tr>\n",
       "      <th>0</th>\n",
       "      <td>BM00013</td>\n",
       "      <td>0.02922</td>\n",
       "    </tr>\n",
       "    <tr>\n",
       "      <th>1</th>\n",
       "      <td>BM00067</td>\n",
       "      <td>0.01619</td>\n",
       "    </tr>\n",
       "    <tr>\n",
       "      <th>2</th>\n",
       "      <td>BM00070</td>\n",
       "      <td>0.037765</td>\n",
       "    </tr>\n",
       "    <tr>\n",
       "      <th>3</th>\n",
       "      <td>BM00072</td>\n",
       "      <td>0.010337</td>\n",
       "    </tr>\n",
       "    <tr>\n",
       "      <th>4</th>\n",
       "      <td>BM00087</td>\n",
       "      <td>0.049548</td>\n",
       "    </tr>\n",
       "  </tbody>\n",
       "</table>\n",
       "</div>"
      ],
      "text/plain": [
       "  bm_passed   p_value\n",
       "0   BM00013   0.02922\n",
       "1   BM00067   0.01619\n",
       "2   BM00070  0.037765\n",
       "3   BM00072  0.010337\n",
       "4   BM00087  0.049548"
      ]
     },
     "execution_count": 28,
     "metadata": {},
     "output_type": "execute_result"
    }
   ],
   "source": [
    "%%time\n",
    "\n",
    "categorical_cols = marker.set_index('biomarker_id').columns\n",
    "\n",
    "def chi2_check_marker(df, categorical_cols, target_col):\n",
    "    \n",
    "    chi2_checked_col = []\n",
    "    chi2_results = []\n",
    "    \n",
    "    for c in categorical_cols:\n",
    "        temp = pd.crosstab(df[c], df[target_col])\n",
    "        chi_res = chi2_contingency(temp)\n",
    "        #print('Chi2 Statistic: {}, p-value: {}\\n{}'.format(chi_res[0], chi_res[1], \"-\"*60))\n",
    "    \n",
    "        if  chi_res[1] < 0.05:\n",
    "            chi2_checked_col.append(c)\n",
    "            chi2_results.append(chi_res[1])\n",
    "            \n",
    "        chi2_output = pd.DataFrame(data = [chi2_checked_col, chi2_results]).T \n",
    "        chi2_output.columns = ['bm_passed', 'p_value']\n",
    "    return chi2_output\n",
    "\n",
    "chi2_checked_bm = chi2_check_marker(marker, categorical_cols, 'target_label')\n",
    "chi2_checked_bm.shape\n",
    "chi2_checked_bm.head()"
   ]
  },
  {
   "cell_type": "code",
   "execution_count": 29,
   "metadata": {},
   "outputs": [
    {
     "data": {
      "text/plain": [
       "(1734, 611)"
      ]
     },
     "execution_count": 29,
     "metadata": {},
     "output_type": "execute_result"
    },
    {
     "data": {
      "text/html": [
       "<div>\n",
       "<style scoped>\n",
       "    .dataframe tbody tr th:only-of-type {\n",
       "        vertical-align: middle;\n",
       "    }\n",
       "\n",
       "    .dataframe tbody tr th {\n",
       "        vertical-align: top;\n",
       "    }\n",
       "\n",
       "    .dataframe thead th {\n",
       "        text-align: right;\n",
       "    }\n",
       "</style>\n",
       "<table border=\"1\" class=\"dataframe\">\n",
       "  <thead>\n",
       "    <tr style=\"text-align: right;\">\n",
       "      <th></th>\n",
       "      <th>biomarker_id</th>\n",
       "      <th>BM00013</th>\n",
       "      <th>BM00067</th>\n",
       "      <th>BM00070</th>\n",
       "      <th>BM00072</th>\n",
       "      <th>BM00087</th>\n",
       "      <th>BM00112</th>\n",
       "      <th>BM00143</th>\n",
       "      <th>BM00216</th>\n",
       "      <th>BM00229</th>\n",
       "      <th>...</th>\n",
       "      <th>BM14977</th>\n",
       "      <th>BM15017</th>\n",
       "      <th>BM15052</th>\n",
       "      <th>BM15064</th>\n",
       "      <th>BM15121</th>\n",
       "      <th>BM15124</th>\n",
       "      <th>BM15130</th>\n",
       "      <th>BM15137</th>\n",
       "      <th>BM15140</th>\n",
       "      <th>target_label</th>\n",
       "    </tr>\n",
       "  </thead>\n",
       "  <tbody>\n",
       "    <tr>\n",
       "      <th>0</th>\n",
       "      <td>89c43bb4</td>\n",
       "      <td>1</td>\n",
       "      <td>0</td>\n",
       "      <td>1</td>\n",
       "      <td>1</td>\n",
       "      <td>0</td>\n",
       "      <td>0</td>\n",
       "      <td>1</td>\n",
       "      <td>0</td>\n",
       "      <td>1</td>\n",
       "      <td>...</td>\n",
       "      <td>1</td>\n",
       "      <td>1</td>\n",
       "      <td>0</td>\n",
       "      <td>1</td>\n",
       "      <td>0</td>\n",
       "      <td>1</td>\n",
       "      <td>1</td>\n",
       "      <td>1</td>\n",
       "      <td>0</td>\n",
       "      <td>0</td>\n",
       "    </tr>\n",
       "    <tr>\n",
       "      <th>1</th>\n",
       "      <td>3ae31327</td>\n",
       "      <td>1</td>\n",
       "      <td>1</td>\n",
       "      <td>1</td>\n",
       "      <td>0</td>\n",
       "      <td>0</td>\n",
       "      <td>0</td>\n",
       "      <td>1</td>\n",
       "      <td>1</td>\n",
       "      <td>1</td>\n",
       "      <td>...</td>\n",
       "      <td>0</td>\n",
       "      <td>1</td>\n",
       "      <td>0</td>\n",
       "      <td>1</td>\n",
       "      <td>1</td>\n",
       "      <td>1</td>\n",
       "      <td>1</td>\n",
       "      <td>1</td>\n",
       "      <td>1</td>\n",
       "      <td>0</td>\n",
       "    </tr>\n",
       "    <tr>\n",
       "      <th>2</th>\n",
       "      <td>1d8f7bab9</td>\n",
       "      <td>1</td>\n",
       "      <td>0</td>\n",
       "      <td>1</td>\n",
       "      <td>1</td>\n",
       "      <td>0</td>\n",
       "      <td>0</td>\n",
       "      <td>1</td>\n",
       "      <td>1</td>\n",
       "      <td>1</td>\n",
       "      <td>...</td>\n",
       "      <td>0</td>\n",
       "      <td>1</td>\n",
       "      <td>1</td>\n",
       "      <td>1</td>\n",
       "      <td>1</td>\n",
       "      <td>1</td>\n",
       "      <td>1</td>\n",
       "      <td>1</td>\n",
       "      <td>0</td>\n",
       "      <td>0</td>\n",
       "    </tr>\n",
       "    <tr>\n",
       "      <th>3</th>\n",
       "      <td>129ee8c6c</td>\n",
       "      <td>0</td>\n",
       "      <td>1</td>\n",
       "      <td>1</td>\n",
       "      <td>0</td>\n",
       "      <td>0</td>\n",
       "      <td>0</td>\n",
       "      <td>1</td>\n",
       "      <td>0</td>\n",
       "      <td>1</td>\n",
       "      <td>...</td>\n",
       "      <td>0</td>\n",
       "      <td>0</td>\n",
       "      <td>1</td>\n",
       "      <td>1</td>\n",
       "      <td>0</td>\n",
       "      <td>1</td>\n",
       "      <td>1</td>\n",
       "      <td>1</td>\n",
       "      <td>1</td>\n",
       "      <td>0</td>\n",
       "    </tr>\n",
       "    <tr>\n",
       "      <th>4</th>\n",
       "      <td>1b44145bd</td>\n",
       "      <td>1</td>\n",
       "      <td>1</td>\n",
       "      <td>0</td>\n",
       "      <td>0</td>\n",
       "      <td>1</td>\n",
       "      <td>0</td>\n",
       "      <td>1</td>\n",
       "      <td>0</td>\n",
       "      <td>1</td>\n",
       "      <td>...</td>\n",
       "      <td>1</td>\n",
       "      <td>1</td>\n",
       "      <td>0</td>\n",
       "      <td>1</td>\n",
       "      <td>0</td>\n",
       "      <td>1</td>\n",
       "      <td>1</td>\n",
       "      <td>1</td>\n",
       "      <td>1</td>\n",
       "      <td>0</td>\n",
       "    </tr>\n",
       "  </tbody>\n",
       "</table>\n",
       "<p>5 rows × 611 columns</p>\n",
       "</div>"
      ],
      "text/plain": [
       "  biomarker_id  BM00013  BM00067  BM00070  BM00072  BM00087  BM00112  BM00143  \\\n",
       "0     89c43bb4        1        0        1        1        0        0        1   \n",
       "1     3ae31327        1        1        1        0        0        0        1   \n",
       "2    1d8f7bab9        1        0        1        1        0        0        1   \n",
       "3    129ee8c6c        0        1        1        0        0        0        1   \n",
       "4    1b44145bd        1        1        0        0        1        0        1   \n",
       "\n",
       "   BM00216  BM00229  ...  BM14977  BM15017  BM15052  BM15064  BM15121  \\\n",
       "0        0        1  ...        1        1        0        1        0   \n",
       "1        1        1  ...        0        1        0        1        1   \n",
       "2        1        1  ...        0        1        1        1        1   \n",
       "3        0        1  ...        0        0        1        1        0   \n",
       "4        0        1  ...        1        1        0        1        0   \n",
       "\n",
       "   BM15124  BM15130  BM15137  BM15140  target_label  \n",
       "0        1        1        1        0             0  \n",
       "1        1        1        1        1             0  \n",
       "2        1        1        1        0             0  \n",
       "3        1        1        1        1             0  \n",
       "4        1        1        1        1             0  \n",
       "\n",
       "[5 rows x 611 columns]"
      ]
     },
     "execution_count": 29,
     "metadata": {},
     "output_type": "execute_result"
    },
    {
     "data": {
      "text/plain": [
       "biomarker_id    object\n",
       "BM00013          int64\n",
       "BM00067          int64\n",
       "BM00070          int64\n",
       "BM00072          int64\n",
       "                 ...  \n",
       "BM15124          int64\n",
       "BM15130          int64\n",
       "BM15137          int64\n",
       "BM15140          int64\n",
       "target_label     int64\n",
       "Length: 611, dtype: object"
      ]
     },
     "execution_count": 29,
     "metadata": {},
     "output_type": "execute_result"
    }
   ],
   "source": [
    "feature_bm = chi2_checked_bm['bm_passed'].tolist()\n",
    "marker_feature = marker.set_index('biomarker_id').loc[:, feature_bm].reset_index()\n",
    "marker_feature.shape\n",
    "marker_feature.head()\n",
    "marker_feature.dtypes"
   ]
  },
  {
   "cell_type": "markdown",
   "metadata": {},
   "source": [
    "### Selecting columns as features that reject Null hypothesis "
   ]
  },
  {
   "cell_type": "markdown",
   "metadata": {},
   "source": [
    "### There are two columns that appear at both feature columns and imputation columns. Imputation values may have some impact on model performance."
   ]
  },
  {
   "cell_type": "code",
   "execution_count": 30,
   "metadata": {},
   "outputs": [
    {
     "data": {
      "text/plain": [
       "610"
      ]
     },
     "execution_count": 30,
     "metadata": {},
     "output_type": "execute_result"
    },
    {
     "data": {
      "text/plain": [
       "608"
      ]
     },
     "execution_count": 30,
     "metadata": {},
     "output_type": "execute_result"
    }
   ],
   "source": [
    "len(set(feature_bm))\n",
    "len(set(feature_bm)-set(missing_col))"
   ]
  },
  {
   "cell_type": "markdown",
   "metadata": {},
   "source": [
    "# 2. Processing Features, Creating Training and Test Dataset for Modeling"
   ]
  },
  {
   "cell_type": "code",
   "execution_count": 31,
   "metadata": {},
   "outputs": [
    {
     "data": {
      "text/html": [
       "<div>\n",
       "<style scoped>\n",
       "    .dataframe tbody tr th:only-of-type {\n",
       "        vertical-align: middle;\n",
       "    }\n",
       "\n",
       "    .dataframe tbody tr th {\n",
       "        vertical-align: top;\n",
       "    }\n",
       "\n",
       "    .dataframe thead th {\n",
       "        text-align: right;\n",
       "    }\n",
       "</style>\n",
       "<table border=\"1\" class=\"dataframe\">\n",
       "  <thead>\n",
       "    <tr style=\"text-align: right;\">\n",
       "      <th></th>\n",
       "      <th>age</th>\n",
       "      <th>days_after_dx</th>\n",
       "      <th>gender</th>\n",
       "      <th>smoking</th>\n",
       "      <th>exercise</th>\n",
       "    </tr>\n",
       "    <tr>\n",
       "      <th>patient_id</th>\n",
       "      <th></th>\n",
       "      <th></th>\n",
       "      <th></th>\n",
       "      <th></th>\n",
       "      <th></th>\n",
       "    </tr>\n",
       "  </thead>\n",
       "  <tbody>\n",
       "    <tr>\n",
       "      <th>1002df1d3</th>\n",
       "      <td>46.0</td>\n",
       "      <td>600.0</td>\n",
       "      <td>male</td>\n",
       "      <td>former</td>\n",
       "      <td>unknown</td>\n",
       "    </tr>\n",
       "    <tr>\n",
       "      <th>1010441f</th>\n",
       "      <td>52.0</td>\n",
       "      <td>0.0</td>\n",
       "      <td>male</td>\n",
       "      <td>never</td>\n",
       "      <td>0.0</td>\n",
       "    </tr>\n",
       "    <tr>\n",
       "      <th>101eb6af1</th>\n",
       "      <td>55.0</td>\n",
       "      <td>0.0</td>\n",
       "      <td>female</td>\n",
       "      <td>never</td>\n",
       "      <td>unknown</td>\n",
       "    </tr>\n",
       "    <tr>\n",
       "      <th>10204394e</th>\n",
       "      <td>69.0</td>\n",
       "      <td>270.0</td>\n",
       "      <td>male</td>\n",
       "      <td>never</td>\n",
       "      <td>unknown</td>\n",
       "    </tr>\n",
       "    <tr>\n",
       "      <th>1021d329b</th>\n",
       "      <td>52.0</td>\n",
       "      <td>300.0</td>\n",
       "      <td>male</td>\n",
       "      <td>former</td>\n",
       "      <td>unknown</td>\n",
       "    </tr>\n",
       "  </tbody>\n",
       "</table>\n",
       "</div>"
      ],
      "text/plain": [
       "             age  days_after_dx  gender smoking exercise\n",
       "patient_id                                              \n",
       "1002df1d3   46.0          600.0    male  former  unknown\n",
       "1010441f    52.0            0.0    male   never      0.0\n",
       "101eb6af1   55.0            0.0  female   never  unknown\n",
       "10204394e   69.0          270.0    male   never  unknown\n",
       "1021d329b   52.0          300.0    male  former  unknown"
      ]
     },
     "execution_count": 31,
     "metadata": {},
     "output_type": "execute_result"
    }
   ],
   "source": [
    "pt_profile_feature.head()"
   ]
  },
  {
   "cell_type": "markdown",
   "metadata": {},
   "source": [
    "## 2.1. Encoding categorical features with one-hot encoding"
   ]
  },
  {
   "cell_type": "code",
   "execution_count": 32,
   "metadata": {
    "tags": []
   },
   "outputs": [
    {
     "data": {
      "text/html": [
       "<div>\n",
       "<style scoped>\n",
       "    .dataframe tbody tr th:only-of-type {\n",
       "        vertical-align: middle;\n",
       "    }\n",
       "\n",
       "    .dataframe tbody tr th {\n",
       "        vertical-align: top;\n",
       "    }\n",
       "\n",
       "    .dataframe thead th {\n",
       "        text-align: right;\n",
       "    }\n",
       "</style>\n",
       "<table border=\"1\" class=\"dataframe\">\n",
       "  <thead>\n",
       "    <tr style=\"text-align: right;\">\n",
       "      <th></th>\n",
       "      <th>patient_id</th>\n",
       "      <th>age</th>\n",
       "      <th>days_after_dx</th>\n",
       "      <th>gender_female</th>\n",
       "      <th>gender_male</th>\n",
       "      <th>smoking_current</th>\n",
       "      <th>smoking_former</th>\n",
       "      <th>smoking_never</th>\n",
       "      <th>smoking_unknown</th>\n",
       "      <th>exercise_0.0</th>\n",
       "      <th>exercise_1.0</th>\n",
       "      <th>exercise_2.0</th>\n",
       "      <th>exercise_unknown</th>\n",
       "    </tr>\n",
       "  </thead>\n",
       "  <tbody>\n",
       "    <tr>\n",
       "      <th>0</th>\n",
       "      <td>1002df1d3</td>\n",
       "      <td>46.0</td>\n",
       "      <td>600.0</td>\n",
       "      <td>0</td>\n",
       "      <td>1</td>\n",
       "      <td>0</td>\n",
       "      <td>1</td>\n",
       "      <td>0</td>\n",
       "      <td>0</td>\n",
       "      <td>0</td>\n",
       "      <td>0</td>\n",
       "      <td>0</td>\n",
       "      <td>1</td>\n",
       "    </tr>\n",
       "    <tr>\n",
       "      <th>1</th>\n",
       "      <td>1010441f</td>\n",
       "      <td>52.0</td>\n",
       "      <td>0.0</td>\n",
       "      <td>0</td>\n",
       "      <td>1</td>\n",
       "      <td>0</td>\n",
       "      <td>0</td>\n",
       "      <td>1</td>\n",
       "      <td>0</td>\n",
       "      <td>1</td>\n",
       "      <td>0</td>\n",
       "      <td>0</td>\n",
       "      <td>0</td>\n",
       "    </tr>\n",
       "    <tr>\n",
       "      <th>2</th>\n",
       "      <td>101eb6af1</td>\n",
       "      <td>55.0</td>\n",
       "      <td>0.0</td>\n",
       "      <td>1</td>\n",
       "      <td>0</td>\n",
       "      <td>0</td>\n",
       "      <td>0</td>\n",
       "      <td>1</td>\n",
       "      <td>0</td>\n",
       "      <td>0</td>\n",
       "      <td>0</td>\n",
       "      <td>0</td>\n",
       "      <td>1</td>\n",
       "    </tr>\n",
       "    <tr>\n",
       "      <th>3</th>\n",
       "      <td>10204394e</td>\n",
       "      <td>69.0</td>\n",
       "      <td>270.0</td>\n",
       "      <td>0</td>\n",
       "      <td>1</td>\n",
       "      <td>0</td>\n",
       "      <td>0</td>\n",
       "      <td>1</td>\n",
       "      <td>0</td>\n",
       "      <td>0</td>\n",
       "      <td>0</td>\n",
       "      <td>0</td>\n",
       "      <td>1</td>\n",
       "    </tr>\n",
       "    <tr>\n",
       "      <th>4</th>\n",
       "      <td>1021d329b</td>\n",
       "      <td>52.0</td>\n",
       "      <td>300.0</td>\n",
       "      <td>0</td>\n",
       "      <td>1</td>\n",
       "      <td>0</td>\n",
       "      <td>1</td>\n",
       "      <td>0</td>\n",
       "      <td>0</td>\n",
       "      <td>0</td>\n",
       "      <td>0</td>\n",
       "      <td>0</td>\n",
       "      <td>1</td>\n",
       "    </tr>\n",
       "  </tbody>\n",
       "</table>\n",
       "</div>"
      ],
      "text/plain": [
       "  patient_id   age  days_after_dx  gender_female  gender_male  \\\n",
       "0  1002df1d3  46.0          600.0              0            1   \n",
       "1   1010441f  52.0            0.0              0            1   \n",
       "2  101eb6af1  55.0            0.0              1            0   \n",
       "3  10204394e  69.0          270.0              0            1   \n",
       "4  1021d329b  52.0          300.0              0            1   \n",
       "\n",
       "   smoking_current  smoking_former  smoking_never  smoking_unknown  \\\n",
       "0                0               1              0                0   \n",
       "1                0               0              1                0   \n",
       "2                0               0              1                0   \n",
       "3                0               0              1                0   \n",
       "4                0               1              0                0   \n",
       "\n",
       "   exercise_0.0  exercise_1.0  exercise_2.0  exercise_unknown  \n",
       "0             0             0             0                 1  \n",
       "1             1             0             0                 0  \n",
       "2             0             0             0                 1  \n",
       "3             0             0             0                 1  \n",
       "4             0             0             0                 1  "
      ]
     },
     "execution_count": 32,
     "metadata": {},
     "output_type": "execute_result"
    }
   ],
   "source": [
    "categorical_cols = ['gender', 'smoking', 'exercise']\n",
    "\n",
    "pt_profile_ohe = pd.get_dummies(pt_profile_feature.loc[:, categorical_cols])\n",
    "\n",
    "pt_feature = pt_profile_feature[['age', 'days_after_dx']].join(pt_profile_ohe).reset_index()\n",
    "pt_feature.head()"
   ]
  },
  {
   "cell_type": "markdown",
   "metadata": {},
   "source": [
    "## 2.2. Creating feature matrix by joining features from patient profile with biomarker"
   ]
  },
  {
   "cell_type": "code",
   "execution_count": 33,
   "metadata": {},
   "outputs": [
    {
     "data": {
      "text/html": [
       "<div>\n",
       "<style scoped>\n",
       "    .dataframe tbody tr th:only-of-type {\n",
       "        vertical-align: middle;\n",
       "    }\n",
       "\n",
       "    .dataframe tbody tr th {\n",
       "        vertical-align: top;\n",
       "    }\n",
       "\n",
       "    .dataframe thead th {\n",
       "        text-align: right;\n",
       "    }\n",
       "</style>\n",
       "<table border=\"1\" class=\"dataframe\">\n",
       "  <thead>\n",
       "    <tr style=\"text-align: right;\">\n",
       "      <th></th>\n",
       "      <th>age</th>\n",
       "      <th>days_after_dx</th>\n",
       "      <th>gender_female</th>\n",
       "      <th>gender_male</th>\n",
       "      <th>smoking_current</th>\n",
       "      <th>smoking_former</th>\n",
       "      <th>smoking_never</th>\n",
       "      <th>smoking_unknown</th>\n",
       "      <th>exercise_0.0</th>\n",
       "      <th>exercise_1.0</th>\n",
       "      <th>...</th>\n",
       "      <th>BM14977</th>\n",
       "      <th>BM15017</th>\n",
       "      <th>BM15052</th>\n",
       "      <th>BM15064</th>\n",
       "      <th>BM15121</th>\n",
       "      <th>BM15124</th>\n",
       "      <th>BM15130</th>\n",
       "      <th>BM15137</th>\n",
       "      <th>BM15140</th>\n",
       "      <th>target_label</th>\n",
       "    </tr>\n",
       "    <tr>\n",
       "      <th>patient_id</th>\n",
       "      <th></th>\n",
       "      <th></th>\n",
       "      <th></th>\n",
       "      <th></th>\n",
       "      <th></th>\n",
       "      <th></th>\n",
       "      <th></th>\n",
       "      <th></th>\n",
       "      <th></th>\n",
       "      <th></th>\n",
       "      <th></th>\n",
       "      <th></th>\n",
       "      <th></th>\n",
       "      <th></th>\n",
       "      <th></th>\n",
       "      <th></th>\n",
       "      <th></th>\n",
       "      <th></th>\n",
       "      <th></th>\n",
       "      <th></th>\n",
       "      <th></th>\n",
       "    </tr>\n",
       "  </thead>\n",
       "  <tbody>\n",
       "    <tr>\n",
       "      <th>1002df1d3</th>\n",
       "      <td>46.0</td>\n",
       "      <td>600.0</td>\n",
       "      <td>0</td>\n",
       "      <td>1</td>\n",
       "      <td>0</td>\n",
       "      <td>1</td>\n",
       "      <td>0</td>\n",
       "      <td>0</td>\n",
       "      <td>0</td>\n",
       "      <td>0</td>\n",
       "      <td>...</td>\n",
       "      <td>1</td>\n",
       "      <td>1</td>\n",
       "      <td>0</td>\n",
       "      <td>1</td>\n",
       "      <td>0</td>\n",
       "      <td>1</td>\n",
       "      <td>1</td>\n",
       "      <td>1</td>\n",
       "      <td>0</td>\n",
       "      <td>0</td>\n",
       "    </tr>\n",
       "    <tr>\n",
       "      <th>1010441f</th>\n",
       "      <td>52.0</td>\n",
       "      <td>0.0</td>\n",
       "      <td>0</td>\n",
       "      <td>1</td>\n",
       "      <td>0</td>\n",
       "      <td>0</td>\n",
       "      <td>1</td>\n",
       "      <td>0</td>\n",
       "      <td>1</td>\n",
       "      <td>0</td>\n",
       "      <td>...</td>\n",
       "      <td>0</td>\n",
       "      <td>1</td>\n",
       "      <td>0</td>\n",
       "      <td>1</td>\n",
       "      <td>1</td>\n",
       "      <td>1</td>\n",
       "      <td>1</td>\n",
       "      <td>1</td>\n",
       "      <td>1</td>\n",
       "      <td>0</td>\n",
       "    </tr>\n",
       "    <tr>\n",
       "      <th>101eb6af1</th>\n",
       "      <td>55.0</td>\n",
       "      <td>0.0</td>\n",
       "      <td>1</td>\n",
       "      <td>0</td>\n",
       "      <td>0</td>\n",
       "      <td>0</td>\n",
       "      <td>1</td>\n",
       "      <td>0</td>\n",
       "      <td>0</td>\n",
       "      <td>0</td>\n",
       "      <td>...</td>\n",
       "      <td>0</td>\n",
       "      <td>1</td>\n",
       "      <td>1</td>\n",
       "      <td>1</td>\n",
       "      <td>1</td>\n",
       "      <td>1</td>\n",
       "      <td>1</td>\n",
       "      <td>1</td>\n",
       "      <td>0</td>\n",
       "      <td>0</td>\n",
       "    </tr>\n",
       "    <tr>\n",
       "      <th>10204394e</th>\n",
       "      <td>69.0</td>\n",
       "      <td>270.0</td>\n",
       "      <td>0</td>\n",
       "      <td>1</td>\n",
       "      <td>0</td>\n",
       "      <td>0</td>\n",
       "      <td>1</td>\n",
       "      <td>0</td>\n",
       "      <td>0</td>\n",
       "      <td>0</td>\n",
       "      <td>...</td>\n",
       "      <td>0</td>\n",
       "      <td>0</td>\n",
       "      <td>1</td>\n",
       "      <td>1</td>\n",
       "      <td>0</td>\n",
       "      <td>1</td>\n",
       "      <td>1</td>\n",
       "      <td>1</td>\n",
       "      <td>1</td>\n",
       "      <td>0</td>\n",
       "    </tr>\n",
       "    <tr>\n",
       "      <th>1021d329b</th>\n",
       "      <td>52.0</td>\n",
       "      <td>300.0</td>\n",
       "      <td>0</td>\n",
       "      <td>1</td>\n",
       "      <td>0</td>\n",
       "      <td>1</td>\n",
       "      <td>0</td>\n",
       "      <td>0</td>\n",
       "      <td>0</td>\n",
       "      <td>0</td>\n",
       "      <td>...</td>\n",
       "      <td>1</td>\n",
       "      <td>1</td>\n",
       "      <td>0</td>\n",
       "      <td>1</td>\n",
       "      <td>0</td>\n",
       "      <td>1</td>\n",
       "      <td>1</td>\n",
       "      <td>1</td>\n",
       "      <td>1</td>\n",
       "      <td>0</td>\n",
       "    </tr>\n",
       "  </tbody>\n",
       "</table>\n",
       "<p>5 rows × 623 columns</p>\n",
       "</div>"
      ],
      "text/plain": [
       "             age  days_after_dx  gender_female  gender_male  smoking_current  \\\n",
       "patient_id                                                                     \n",
       "1002df1d3   46.0          600.0              0            1                0   \n",
       "1010441f    52.0            0.0              0            1                0   \n",
       "101eb6af1   55.0            0.0              1            0                0   \n",
       "10204394e   69.0          270.0              0            1                0   \n",
       "1021d329b   52.0          300.0              0            1                0   \n",
       "\n",
       "            smoking_former  smoking_never  smoking_unknown  exercise_0.0  \\\n",
       "patient_id                                                                 \n",
       "1002df1d3                1              0                0             0   \n",
       "1010441f                 0              1                0             1   \n",
       "101eb6af1                0              1                0             0   \n",
       "10204394e                0              1                0             0   \n",
       "1021d329b                1              0                0             0   \n",
       "\n",
       "            exercise_1.0  ...  BM14977  BM15017 BM15052  BM15064  BM15121  \\\n",
       "patient_id                ...                                               \n",
       "1002df1d3              0  ...        1        1       0        1        0   \n",
       "1010441f               0  ...        0        1       0        1        1   \n",
       "101eb6af1              0  ...        0        1       1        1        1   \n",
       "10204394e              0  ...        0        0       1        1        0   \n",
       "1021d329b              0  ...        1        1       0        1        0   \n",
       "\n",
       "            BM15124  BM15130  BM15137  BM15140  target_label  \n",
       "patient_id                                                    \n",
       "1002df1d3         1        1        1        0             0  \n",
       "1010441f          1        1        1        1             0  \n",
       "101eb6af1         1        1        1        0             0  \n",
       "10204394e         1        1        1        1             0  \n",
       "1021d329b         1        1        1        1             0  \n",
       "\n",
       "[5 rows x 623 columns]"
      ]
     },
     "execution_count": 33,
     "metadata": {},
     "output_type": "execute_result"
    },
    {
     "data": {
      "text/plain": [
       "Index(['age', 'days_after_dx', 'gender_female', 'gender_male',\n",
       "       'smoking_current', 'smoking_former', 'smoking_never', 'smoking_unknown',\n",
       "       'exercise_0.0', 'exercise_1.0',\n",
       "       ...\n",
       "       'BM14977', 'BM15017', 'BM15052', 'BM15064', 'BM15121', 'BM15124',\n",
       "       'BM15130', 'BM15137', 'BM15140', 'target_label'],\n",
       "      dtype='object', length=623)"
      ]
     },
     "execution_count": 33,
     "metadata": {},
     "output_type": "execute_result"
    },
    {
     "data": {
      "text/plain": [
       "age                float64\n",
       "days_after_dx      float64\n",
       "gender_female        uint8\n",
       "gender_male          uint8\n",
       "smoking_current      uint8\n",
       "                    ...   \n",
       "BM15124              int64\n",
       "BM15130              int64\n",
       "BM15137              int64\n",
       "BM15140              int64\n",
       "target_label         int64\n",
       "Length: 623, dtype: object"
      ]
     },
     "execution_count": 33,
     "metadata": {},
     "output_type": "execute_result"
    }
   ],
   "source": [
    "feature_matrix = pt_feature.merge(target, how = 'inner', on='patient_id').drop('target_label', axis =1).merge(marker_feature, on='biomarker_id', how = 'inner').set_index('patient_id')\n",
    "feature_matrix.head()\n",
    "feature_matrix.columns\n",
    "feature_matrix.dtypes"
   ]
  },
  {
   "cell_type": "raw",
   "metadata": {
    "jupyter": {
     "outputs_hidden": true
    },
    "tags": []
   },
   "source": [
    "pt_profile_training = pt_profile_cleaned[['age', 'days_after_dx', 'biomarker_id', 'patient_id', 'target_label']].set_index('patient_id')\n",
    "\n",
    "pt_features = pt_profile_training.join(pt_profile_ohe).reset_index().set_index('patient_id')\n",
    "\n",
    "pt_features.head()\n",
    "pt_features.shape\n",
    "pt_features.columns"
   ]
  },
  {
   "cell_type": "markdown",
   "metadata": {},
   "source": [
    "## 2.3. Spliting traing, test data and standarizing features"
   ]
  },
  {
   "cell_type": "code",
   "execution_count": 34,
   "metadata": {},
   "outputs": [
    {
     "name": "stdout",
     "output_type": "stream",
     "text": [
      "621\n"
     ]
    },
    {
     "data": {
      "text/plain": [
       "(1734, 621)"
      ]
     },
     "execution_count": 34,
     "metadata": {},
     "output_type": "execute_result"
    },
    {
     "data": {
      "text/plain": [
       "(1734,)"
      ]
     },
     "execution_count": 34,
     "metadata": {},
     "output_type": "execute_result"
    }
   ],
   "source": [
    "X = feature_matrix.drop(axis = 1, columns = ['target_label', 'biomarker_id'])\n",
    "\n",
    "xcol = list(X.columns)\n",
    "pt_idx = X.index\n",
    "col_idx = dict() \n",
    "for i in range(len(xcol)):\n",
    "    col_idx[i] = xcol[i]\n",
    "print(len(col_idx))\n",
    "\n",
    "X=X.values\n",
    "X.shape\n",
    "\n",
    "Y = feature_matrix['target_label'] \n",
    "Y.shape\n",
    "\n",
    "X_train, X_test, Y_train, Y_test = train_test_split(X, Y, test_size = 0.2, random_state = 21)\n",
    "\n",
    "X_train = StandardScaler().fit_transform(X_train)\n",
    "X_test = StandardScaler().fit_transform(X_test)"
   ]
  },
  {
   "cell_type": "code",
   "execution_count": 35,
   "metadata": {
    "tags": []
   },
   "outputs": [
    {
     "data": {
      "text/plain": [
       "12"
      ]
     },
     "execution_count": 35,
     "metadata": {},
     "output_type": "execute_result"
    }
   ],
   "source": [
    "len(pt_feature.columns)-1"
   ]
  },
  {
   "cell_type": "markdown",
   "metadata": {},
   "source": [
    "## 2.4. Dealing with imbalanced data"
   ]
  },
  {
   "cell_type": "code",
   "execution_count": 36,
   "metadata": {
    "tags": []
   },
   "outputs": [
    {
     "data": {
      "image/png": "[encoded data removed]",
      "text/plain": [
       "<Figure size 432x288 with 1 Axes>"
      ]
     },
     "metadata": {
      "needs_background": "light"
     },
     "output_type": "display_data"
    }
   ],
   "source": [
    "# The ratio of positive target vs. negative (0) is ~ 20%\n",
    "pd.Series(Y_train).value_counts().plot.bar();"
   ]
  },
  {
   "cell_type": "markdown",
   "metadata": {},
   "source": [
    "### The training data is skewed towards negative(0). It can results in poor model performance for the positive(1) class. \n",
    "### We used SMOTE technique to produce balanced dataset for training"
   ]
  },
  {
   "cell_type": "code",
   "execution_count": 37,
   "metadata": {},
   "outputs": [
    {
     "data": {
      "image/png": "[encoded data removed]",
      "text/plain": [
       "<Figure size 432x288 with 1 Axes>"
      ]
     },
     "metadata": {
      "needs_background": "light"
     },
     "output_type": "display_data"
    }
   ],
   "source": [
    "oversample = BorderlineSMOTE(random_state=10, kind=\"borderline-2\")\n",
    "train_x, train_y = oversample.fit_resample(X_train, Y_train.ravel())\n",
    "pd.Series(train_y).value_counts().plot.bar();"
   ]
  },
  {
   "cell_type": "raw",
   "metadata": {},
   "source": [
    "train_x = X_train\n",
    "train_y = Y_train"
   ]
  },
  {
   "cell_type": "markdown",
   "metadata": {},
   "source": [
    "## 2.5. Dimensionality reduction of biomarker features to prevent model overfitting \n",
    "\n",
    "1. Using PCA or t-SNE for dimensionality reducation\n",
    "2. Concatenating reduced biomarker features with patient profile features to create a new feature matrix for training "
   ]
  },
  {
   "cell_type": "code",
   "execution_count": 38,
   "metadata": {
    "tags": []
   },
   "outputs": [],
   "source": [
    "def pca_marker(X, l, n=2):\n",
    "    \n",
    "    x = X[:, l:]\n",
    "\n",
    "    pca = PCA(n_components=n)\n",
    "    #pca = KernelPCA(n_components=5, kernel='rbf', gamma=15, random_state=42)\n",
    "    dr = pca.fit_transform(x)\n",
    "    print(pca.explained_variance_ratio_.sum())\n",
    "    \n",
    "    new_x = np.concatenate((X[:, :l], dr), axis=1)\n",
    "    \n",
    "    return new_x\n",
    "\n",
    "\n",
    "def tsne_marker(X, l, m=2, n=2):\n",
    "    \n",
    "    x = X[:, l:]\n",
    "\n",
    "    pca = PCA(n_components=m)\n",
    "    tsne = TSNE(n_components=n)#, perplexity=20, n_iter=1000, learning_rate=200)\n",
    "    tsne_after_pca = Pipeline([('pca', pca), ('tsne', tsne)])\n",
    "    dr = tsne_after_pca.fit_transform(x)\n",
    "   \n",
    "    new_x = np.concatenate((X[:, :l], dr), axis=1)\n",
    "    \n",
    "    return new_x\n",
    "\n"
   ]
  },
  {
   "cell_type": "raw",
   "metadata": {},
   "source": [
    "l = len(pt_feature.columns)-1\n",
    "\n",
    "x_train = pca_marker(train_x, l, 5)\n",
    "x_train.shape\n",
    "\n",
    "x_test = pca_marker(X_test, l, 5)\n",
    "x_test.shape"
   ]
  },
  {
   "cell_type": "code",
   "execution_count": 39,
   "metadata": {
    "tags": []
   },
   "outputs": [
    {
     "data": {
      "text/plain": [
       "(2182, 14)"
      ]
     },
     "execution_count": 39,
     "metadata": {},
     "output_type": "execute_result"
    },
    {
     "data": {
      "text/plain": [
       "(347, 14)"
      ]
     },
     "execution_count": 39,
     "metadata": {},
     "output_type": "execute_result"
    }
   ],
   "source": [
    "l = len(pt_feature.columns)-1\n",
    "n_pca = 20\n",
    "n_tsne = 2\n",
    "\n",
    "x_train = tsne_marker(train_x, l, n_pca, n_tsne)\n",
    "x_train.shape\n",
    "\n",
    "x_test = tsne_marker(X_test, l, n_pca, n_tsne)\n",
    "x_test.shape"
   ]
  },
  {
   "cell_type": "markdown",
   "metadata": {},
   "source": [
    "# 3. Model Training\n",
    "## 3.1. dummy classifier"
   ]
  },
  {
   "cell_type": "code",
   "execution_count": 40,
   "metadata": {
    "tags": []
   },
   "outputs": [
    {
     "name": "stdout",
     "output_type": "stream",
     "text": [
      "Most frequent class (dummy classifier)\n",
      " [[134 128]\n",
      " [ 48  37]]\n",
      "              precision    recall  f1-score   support\n",
      "\n",
      "           0       0.74      0.51      0.60       262\n",
      "           1       0.22      0.44      0.30        85\n",
      "\n",
      "    accuracy                           0.49       347\n",
      "   macro avg       0.48      0.47      0.45       347\n",
      "weighted avg       0.61      0.49      0.53       347\n",
      "\n"
     ]
    }
   ],
   "source": [
    "dummy_classprop = DummyClassifier(strategy='stratified').fit(x_train, train_y)\n",
    "\n",
    "y_classprop_predicted = dummy_classprop.predict(x_test)\n",
    "\n",
    "dummy_confusion = confusion_matrix(Y_test, y_classprop_predicted)\n",
    "print('Most frequent class (dummy classifier)\\n', dummy_confusion)\n",
    "print(classification_report(Y_test, y_classprop_predicted))"
   ]
  },
  {
   "cell_type": "markdown",
   "metadata": {},
   "source": [
    "## 3.2. Logistic regression, Random forest, SVM classifier "
   ]
  },
  {
   "cell_type": "code",
   "execution_count": 41,
   "metadata": {
    "tags": []
   },
   "outputs": [
    {
     "data": {
      "text/plain": [
       "LogisticRegressionCV()"
      ]
     },
     "execution_count": 41,
     "metadata": {},
     "output_type": "execute_result"
    },
    {
     "name": "stdout",
     "output_type": "stream",
     "text": [
      "              precision    recall  f1-score   support\n",
      "\n",
      "           0       0.82      0.63      0.71       262\n",
      "           1       0.33      0.58      0.42        85\n",
      "\n",
      "    accuracy                           0.61       347\n",
      "   macro avg       0.58      0.60      0.57       347\n",
      "weighted avg       0.70      0.61      0.64       347\n",
      "\n"
     ]
    },
    {
     "data": {
      "text/plain": [
       "0.6242478670857656"
      ]
     },
     "execution_count": 41,
     "metadata": {},
     "output_type": "execute_result"
    }
   ],
   "source": [
    "LR = LogisticRegressionCV() \n",
    "LR.fit(x_train, train_y)\n",
    "prob = LR.predict_proba(x_test)\n",
    "bino = LR.predict(x_test)\n",
    "\n",
    "print(classification_report(Y_test, bino))\n",
    "roc_auc_score(Y_test, prob[:,1])\n"
   ]
  },
  {
   "cell_type": "code",
   "execution_count": 42,
   "metadata": {},
   "outputs": [
    {
     "data": {
      "text/plain": [
       "SVC(kernel='linear')"
      ]
     },
     "execution_count": 42,
     "metadata": {},
     "output_type": "execute_result"
    },
    {
     "name": "stdout",
     "output_type": "stream",
     "text": [
      "              precision    recall  f1-score   support\n",
      "\n",
      "           0       0.81      0.73      0.77       262\n",
      "           1       0.37      0.48      0.42        85\n",
      "\n",
      "    accuracy                           0.67       347\n",
      "   macro avg       0.59      0.61      0.59       347\n",
      "weighted avg       0.70      0.67      0.68       347\n",
      "\n",
      "AUC:  0.6056802873821284\n"
     ]
    }
   ],
   "source": [
    "model = SVC(kernel='linear')\n",
    "model.fit(x_train, train_y)\n",
    "prediction = model.predict(x_test)\n",
    "\n",
    "print(classification_report(Y_test, prediction))\n",
    "print('AUC: ', roc_auc_score(Y_test, prediction))"
   ]
  },
  {
   "cell_type": "code",
   "execution_count": 43,
   "metadata": {
    "tags": []
   },
   "outputs": [
    {
     "name": "stdout",
     "output_type": "stream",
     "text": [
      "              precision    recall  f1-score   support\n",
      "\n",
      "           0       0.77      0.54      0.63       262\n",
      "           1       0.26      0.51      0.35        85\n",
      "\n",
      "    accuracy                           0.53       347\n",
      "   macro avg       0.52      0.52      0.49       347\n",
      "weighted avg       0.65      0.53      0.56       347\n",
      "\n",
      "AUC:  0.5781544678940277\n"
     ]
    }
   ],
   "source": [
    "RFC = RandomForestClassifier(oob_score = True).fit(x_train, train_y)\n",
    "prob_out = RFC.predict_proba(x_test)\n",
    "class_out = RFC.predict(x_test)\n",
    "\n",
    "print(classification_report(Y_test, class_out))\n",
    "print('AUC: ', roc_auc_score(Y_test, prob_out[:,1]))"
   ]
  },
  {
   "cell_type": "markdown",
   "metadata": {},
   "source": [
    "### We choose logistic regression since it produce the highes recall. "
   ]
  },
  {
   "cell_type": "markdown",
   "metadata": {},
   "source": [
    "## 3.3. Model Evaluation\n",
    "### 3.3.1. Ranking of feature importance  "
   ]
  },
  {
   "cell_type": "code",
   "execution_count": 44,
   "metadata": {},
   "outputs": [
    {
     "data": {
      "text/plain": [
       "age                 0.272395\n",
       "days_after_dx       0.219920\n",
       "smoking_current     0.170827\n",
       "gender_female       0.110339\n",
       "exercise_0.0        0.063237\n",
       "smoking_unknown     0.062696\n",
       "BM00067             0.036016\n",
       "BM00013             0.028125\n",
       "exercise_unknown   -0.005964\n",
       "exercise_2.0       -0.047393\n",
       "smoking_former     -0.073252\n",
       "exercise_1.0       -0.093792\n",
       "gender_male        -0.110339\n",
       "smoking_never      -0.134555\n",
       "dtype: float64"
      ]
     },
     "execution_count": 44,
     "metadata": {},
     "output_type": "execute_result"
    }
   ],
   "source": [
    "pd.Series(LR.coef_[0], index = xcol[:l+n_tsne]).nlargest(l+n_tsne)"
   ]
  },
  {
   "cell_type": "markdown",
   "metadata": {},
   "source": [
    "### The ranking of feature importance from model output shows:\n",
    "1. Age, days after diagnosis, current smoking status show positive association with positive class. \n",
    "2. Female shows high prevalence than male\n",
    "3. The impact of biomarker on target is different. One shows negative association and the other shows minor positive association. BM0013, BM0067 are not original biomarker columns but the proxy names for biomarker features after dimentionality reduction. \n",
    "4. Association of exercise needs further investigation since it is only present in one institutuion that has only ~20% of the cohort"
   ]
  },
  {
   "cell_type": "markdown",
   "metadata": {},
   "source": [
    "### 3.3.2. Hyperparameters tuning with Gridsearch to get optimal performance"
   ]
  },
  {
   "cell_type": "code",
   "execution_count": 48,
   "metadata": {},
   "outputs": [
    {
     "name": "stdout",
     "output_type": "stream",
     "text": [
      "-0.5347384491209154 {'Cs': 7, 'penalty': 'l1', 'solver': 'liblinear'}\n"
     ]
    }
   ],
   "source": [
    "LR2 = LogisticRegressionCV()\n",
    "\n",
    "params_grid = {\"solver\":['liblinear'], \"penalty\":[\"l1\", \"l2\"], \"Cs\":list(range(1,11,3)) }\n",
    "\n",
    "kfold = StratifiedKFold(n_splits=10, shuffle = True, random_state=7)\n",
    "\n",
    "gridsearch = GridSearchCV(LR2, param_grid=params_grid, scoring = 'neg_log_loss', n_jobs = -1, cv = kfold)\n",
    "\n",
    "gridresult = gridsearch.fit(x_train, train_y)\n",
    "\n",
    "print(gridresult.best_score_, gridsearch.best_params_)"
   ]
  },
  {
   "cell_type": "code",
   "execution_count": 49,
   "metadata": {},
   "outputs": [],
   "source": [
    "LR3 = LogisticRegressionCV(solver=gridsearch.best_params_['solver'], penalty=gridsearch.best_params_['penalty'], Cs = gridsearch.best_params_['Cs'])"
   ]
  },
  {
   "cell_type": "markdown",
   "metadata": {},
   "source": [
    "### 3.3.3. Cross-validtion of model using optimal hyperparameters\n",
    "### Average performance metric"
   ]
  },
  {
   "cell_type": "code",
   "execution_count": 50,
   "metadata": {
    "tags": []
   },
   "outputs": [
    {
     "name": "stdout",
     "output_type": "stream",
     "text": [
      "recall: 0.739\n",
      "precision: 0.760\n",
      "f1: 0.747\n",
      "ROC_AUC: 0.808\n"
     ]
    }
   ],
   "source": [
    "count = 0\n",
    "recall_list = []\n",
    "precision_list = []\n",
    "f1_list = []\n",
    "roc_auc_list = []\n",
    "\n",
    "while count < 10:\n",
    "    \n",
    "    kfold = StratifiedKFold(n_splits=10, shuffle = True, random_state=5) \n",
    "    s_recall = cross_val_score(LR3, x_train, train_y, cv= kfold,scoring='recall')\n",
    "    s_roc_auc = cross_val_score(LR3, x_train, train_y, cv= kfold,scoring='roc_auc')\n",
    "    s_precision =cross_val_score(LR3, x_train, train_y, cv= kfold,scoring='precision')\n",
    "    s_f1 = cross_val_score(LR3, x_train, train_y, cv= kfold, scoring='f1')\n",
    "    \n",
    "    recall_list.append(np.mean(s_recall))\n",
    "    precision_list.append(np.mean(s_precision))\n",
    "    f1_list.append(np.mean(s_f1))\n",
    "    roc_auc_list.append(np.mean(s_roc_auc))\n",
    "    \n",
    "    count += 1\n",
    "    \n",
    "print(\"recall: {:.3f}\".format(np.mean(recall_list)))\n",
    "print(\"precision: {:.3f}\".format(np.mean(precision_list)))\n",
    "print(\"f1: {:.3f}\".format(np.mean(f1_list)))\n",
    "print(\"ROC_AUC: {:.3f}\".format(np.mean(roc_auc_list)))"
   ]
  },
  {
   "cell_type": "markdown",
   "metadata": {},
   "source": [
    "### ROC Curve"
   ]
  },
  {
   "cell_type": "code",
   "execution_count": 93,
   "metadata": {},
   "outputs": [
    {
     "data": {
      "image/png": "[encoded data removed]",
      "text/plain": [
       "<Figure size 432x288 with 1 Axes>"
      ]
     },
     "metadata": {
      "needs_background": "light"
     },
     "output_type": "display_data"
    }
   ],
   "source": [
    "y_score = LR3.decision_function(x_test)\n",
    "\n",
    "fpr, tpr, _ = roc_curve(Y_test, y_score, pos_label=LR3.classes_[1])\n",
    "roc_display = RocCurveDisplay(fpr=fpr, tpr=tpr).plot()"
   ]
  },
  {
   "cell_type": "markdown",
   "metadata": {},
   "source": [
    "### Precision-Recall Curve"
   ]
  },
  {
   "cell_type": "code",
   "execution_count": 82,
   "metadata": {},
   "outputs": [
    {
     "data": {
      "image/png": "[encoded data removed]",
      "text/plain": [
       "<Figure size 432x288 with 1 Axes>"
      ]
     },
     "metadata": {
      "needs_background": "light"
     },
     "output_type": "display_data"
    }
   ],
   "source": [
    "y_score = LR3.decision_function(x_test)\n",
    "\n",
    "prec, recall, _ = precision_recall_curve(Y_test, y_score, pos_label=LR3.classes_[1])\n",
    "pr_display = PrecisionRecallDisplay(precision=prec, recall=recall).plot()"
   ]
  },
  {
   "cell_type": "markdown",
   "metadata": {},
   "source": [
    "### Validation with test data"
   ]
  },
  {
   "cell_type": "code",
   "execution_count": 91,
   "metadata": {},
   "outputs": [
    {
     "data": {
      "text/plain": [
       "LogisticRegressionCV(Cs=7, penalty='l1', solver='liblinear')"
      ]
     },
     "execution_count": 91,
     "metadata": {},
     "output_type": "execute_result"
    },
    {
     "data": {
      "image/png": "[encoded data removed]",
      "text/plain": [
       "<Figure size 432x288 with 2 Axes>"
      ]
     },
     "metadata": {
      "needs_background": "light"
     },
     "output_type": "display_data"
    }
   ],
   "source": [
    "LR3.fit(x_train, train_y)\n",
    "\n",
    "prediction = LR3.predict(x_test)\n",
    "bino = LR3.predict(x_test)\n",
    "prob = LR3.predict_proba(x_test)\n",
    "\n",
    "cm = confusion_matrix(bino, Y_test)\n",
    "cm_display = ConfusionMatrixDisplay(cm).plot()"
   ]
  },
  {
   "cell_type": "markdown",
   "metadata": {},
   "source": [
    "### Model generalizability"
   ]
  },
  {
   "cell_type": "code",
   "execution_count": null,
   "metadata": {},
   "outputs": [],
   "source": [
    "kfold = StratifiedKFold(n_splits=10, shuffle = True)\n",
    "\n",
    "X_new = np.concatenate((x_train, x_test), axis = 0)\n",
    "Y_new = np.concatenate((train_y, Y_test))\n",
    "\n",
    "LC = learning_curve(estimator = LR3, X = X_new, y = Y_new, cv = kfold, train_sizes = np.linspace(0.10, 1.00, 10))"
   ]
  },
  {
   "cell_type": "code",
   "execution_count": null,
   "metadata": {},
   "outputs": [],
   "source": [
    "plt.figure();\n",
    "plt.title(\"Logistic Regression-Learning Curve\");\n",
    "plt.plot(LC[0],np.nanmean(LC[1],axis = 1),c = 'blue');\n",
    "plt.plot(LC[0],np.nanmean(LC[2],axis = 1), c = 'green');\n",
    "plt.xlabel(\"Training Size\");\n",
    "plt.legend(['training', 'validation']);\n",
    "plt.ylabel(\"Accuracy\");\n",
    "plt.grid(linestyle='-.');\n",
    "plt.show();"
   ]
  },
  {
   "cell_type": "markdown",
   "metadata": {},
   "source": [
    "# Summary and Further work \n",
    "As shown above, the training accuracy and validation accuracy coverge with increasing training size, indicating overfitting is not a issue. However, the accuracy reached a plataeu at 0.73 and the recall/sensitivity of the test data is 0.58. Since sensitivity is an important metric for disease prediction, the performance of the model is far from satisfactory. Further work to improve the performance  includes: \n",
    "* Feature selection and engineering\n",
    "* Diffferent model such as XGBoost \n",
    "* Different imputation and imbalanced sampling techniques"
   ]
  },
  {
   "cell_type": "code",
   "execution_count": null,
   "metadata": {},
   "outputs": [],
   "source": []
  }
 ],
 "metadata": {
  "colab": {
   "name": "tempus_case.ipynb",
   "provenance": []
  },
  "kernelspec": {
   "display_name": "Python 3",
   "language": "python",
   "name": "python3"
  },
  "language_info": {
   "codemirror_mode": {
    "name": "ipython",
    "version": 3
   },
   "file_extension": ".py",
   "mimetype": "text/x-python",
   "name": "python",
   "nbconvert_exporter": "python",
   "pygments_lexer": "ipython3",
   "version": "3.8.5"
  }
 },
 "nbformat": 4,
 "nbformat_minor": 4
}
